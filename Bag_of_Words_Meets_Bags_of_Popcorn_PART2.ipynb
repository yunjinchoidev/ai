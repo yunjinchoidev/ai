{
  "nbformat": 4,
  "nbformat_minor": 0,
  "metadata": {
    "kernelspec": {
      "display_name": "Python 3",
      "language": "python",
      "name": "python3"
    },
    "language_info": {
      "codemirror_mode": {
        "name": "ipython",
        "version": 3
      },
      "file_extension": ".py",
      "mimetype": "text/x-python",
      "name": "python",
      "nbconvert_exporter": "python",
      "pygments_lexer": "ipython3",
      "version": "3.6.1"
    },
    "colab": {
      "provenance": [],
      "include_colab_link": true
    }
  },
  "cells": [
    {
      "cell_type": "markdown",
      "metadata": {
        "id": "view-in-github",
        "colab_type": "text"
      },
      "source": [
        "<a href=\"https://colab.research.google.com/github/yunjinchoidev/ai/blob/main/Bag_of_Words_Meets_Bags_of_Popcorn_PART2.ipynb\" target=\"_parent\"><img src=\"https://colab.research.google.com/assets/colab-badge.svg\" alt=\"Open In Colab\"/></a>"
      ]
    },
    {
      "cell_type": "markdown",
      "metadata": {
        "id": "0NUWlWL748RP"
      },
      "source": [
        "## Bag of Words Meets Bags of Popcorn\n",
        "\n",
        "# 튜토리얼 파트 2 Word Vectors\n",
        "\n",
        "* 딥러닝 기법인 Word2Vec을 통해 단어를 벡터화 해본다. \n",
        "* t-SNE를 통해 벡터화 한 데이터를 시각화 해본다.\n",
        "* 딥러닝과 지도학습의 랜덤포레스트를 사용하는 하이브리드 방식을 사용한다.\n",
        "\n",
        "## Word2Vec(Word Embedding to Vector)\n",
        "\n",
        "컴퓨터는 숫자만 인식할 수 있고 한글, 이미지는 바이너리 코드로 저장 된다.\n",
        "튜토리얼 파트1에서는  Bag of Word라는 개념을 사용해서 문자를 벡터화 하여 머신러닝 알고리즘이 이해할 수 있도록 벡터화 해주는 작업을 하였다.\n",
        "\n",
        "\n",
        "* one hot encoding(예 [0000001000]) 혹은 Bag of Word에서 vector size가 매우 크고 sparse 하므로 neural net 성능이 잘 나오지 않는다.\n",
        "* `주위 단어가 비슷하면 해당 단어의 의미는 유사하다` 라는 아이디어\n",
        "* 단어를 트레이닝 시킬 때 주위 단어를 label로 매치하여 최적화\n",
        "* 단어를 `의미를 내포한 dense vector`로 매칭 시키는 것\n",
        "\n",
        "* Word2Vec은 분산 된 텍스트 표현을 사용하여 개념 간 유사성을 본다. 예를 들어, 파리와 프랑스가 베를린과 독일이 (수도와 나라) 같은 방식으로 관련되어 있음을 이해한다.\n",
        "\n",
        "![word2vec](https://1.bp.blogspot.com/-Q7F8ulD6fC0/UgvnVCSGmXI/AAAAAAAAAbg/MCWLTYBufhs/s1600/image00.gif)\n",
        "이미지 출처 : https://opensource.googleblog.com/2013/08/learning-meaning-behind-words.html\n",
        "\n",
        "* 단어의 임베딩과정을 실시간으로 시각화 : [word embedding visual inspector](https://ronxin.github.io/wevi/)\n",
        "\n",
        "\n",
        "![CBOW와 Skip-Gram](https://i.imgur.com/yXY1LxV.png)\n",
        "출처 : https://arxiv.org/pdf/1301.3781.pdf\n",
        " Tomas Mikolov, Ilya Sutskever, Kai Chen, Greg Corrado, and Jeffrey Dean. Distributed Representations of Words and Phrases and their Compositionality. In Proceedings of NIPS, 2013.\n",
        "\n",
        "\n",
        "* CBOW와 Skip-Gram기법이 있다.\n",
        "\n",
        "    * CBOW(continuous bag-of-words)는 전체 텍스트로 하나의 단어를 예측하기 때문에 작은 데이터셋일 수록 유리하다.    \n",
        "    * 아래 예제에서 __ 에 들어갈 단어를 예측한다.\n",
        "<pre>\n",
        "1) __가 맛있다. \n",
        "2) __를 타는 것이 재미있다. \n",
        "3) 평소보다 두 __로 많이 먹어서 __가 아프다.\n",
        "</pre>\n",
        "\n",
        "    * Skip-Gram은 타겟 단어들로부터 원본 단어를 역으로 예측하는 것이다. CBOW와는 반대로 컨텍스트-타겟 쌍을 새로운 발견으로 처리하고 큰 규모의 데이터셋을 가질 때 유리하다.\n",
        "    * `배`라는 단어 주변에 올 수 있는 단어를 예측한다.\n",
        "    \n",
        "    <pre>\n",
        "    1) *배*가 맛있다. \n",
        "    2) *배*를 타는 것이 재미있다. \n",
        "    3) 평소보다 두 *배*로 많이 먹어서 *배*가 아프다.\n",
        "    </pre>\n",
        "\n",
        "\n",
        "\n",
        "## Word2Vec 참고자료\n",
        "\n",
        "* [word2vec 모델 · 텐서플로우 문서 한글 번역본](https://tensorflowkorea.gitbooks.io/tensorflow-kr/g3doc/tutorials/word2vec/)\n",
        "* [Word2Vec으로 문장 분류하기 · ratsgo's blog](https://ratsgo.github.io/natural%20language%20processing/2017/03/08/word2vec/)\n",
        "\n",
        "* [Efficient Estimation of Word Representations in\n",
        "Vector Space](https://arxiv.org/pdf/1301.3781v3.pdf)\n",
        "* [Distributed Representations of Words and Phrases and their Compositionality](http://papers.nips.cc/paper/5021-distributed-representations-of-words-and-phrases-and-their-compositionality.pdf)\n",
        "* [CS224n: Natural Language Processing with Deep Learning](http://web.stanford.edu/class/cs224n/syllabus.html)\n",
        "* [Word2Vec Tutorial - The Skip-Gram Model · Chris McCormick](http://mccormickml.com/2016/04/19/word2vec-tutorial-the-skip-gram-model/)\n",
        "\n",
        "## Gensim\n",
        "\n",
        "* [gensim: models.word2vec – Deep learning with word2vec](https://radimrehurek.com/gensim/models/word2vec.html)\n",
        "* [gensim: Tutorials](https://radimrehurek.com/gensim/tutorial.html)\n",
        "* [한국어와 NLTK, Gensim의 만남 - PyCon Korea 2015](https://www.lucypark.kr/docs/2015-pyconkr/)\n",
        "\n",
        "\n"
      ]
    },
    {
      "cell_type": "code",
      "metadata": {
        "id": "SVNYVYiX48RR"
      },
      "source": [
        "# 출력이 너무 길어지지 않게하기 위해 찍지 않도록 했으나 \n",
        "# 실제 학습 할 때는 아래 두 줄을 주석처리 하는 것을 권장한다.\n",
        "import warnings\n",
        "warnings.filterwarnings('ignore')"
      ],
      "execution_count": null,
      "outputs": []
    },
    {
      "cell_type": "code",
      "metadata": {
        "id": "tdHoq19Y48RU",
        "outputId": "23078a35-5be4-4267-8ff8-d32138d4fe30",
        "colab": {
          "base_uri": "https://localhost:8080/",
          "height": 119
        }
      },
      "source": [
        "import pandas as pd\n",
        "\n",
        "# 레이블인 sentiment 가 있는 학습 데이터\n",
        "train = pd.read_csv('https://raw.githubusercontent.com/corazzon/KaggleStruggle/master/word2vec-nlp-tutorial/data/labeledTrainData.tsv', delimiter='\\t', quoting=3)\n",
        "# 레이블이 없는 테스트 데이터\n",
        "test = pd.read_csv('https://raw.githubusercontent.com/corazzon/KaggleStruggle/master/word2vec-nlp-tutorial/data/testData.tsv', delimiter='\\t', quoting=3)\n",
        "\n",
        "unlabeled_train = pd.read_csv('https://raw.githubusercontent.com/corazzon/KaggleStruggle/master/word2vec-nlp-tutorial/data/unlabeledTrainData.tsv', \n",
        "                              header=0, delimiter='\\t', quoting=3)\n",
        "\n",
        "print(train.shape)\n",
        "print(test.shape)\n",
        "print(unlabeled_train.shape)\n",
        "\n",
        "print(train['review'].size)\n",
        "print(test['review'].size)\n",
        "print(unlabeled_train['review'].size)"
      ],
      "execution_count": null,
      "outputs": [
        {
          "output_type": "stream",
          "text": [
            "(25000, 3)\n",
            "(25000, 2)\n",
            "(50000, 2)\n",
            "25000\n",
            "25000\n",
            "50000\n"
          ],
          "name": "stdout"
        }
      ]
    },
    {
      "cell_type": "code",
      "metadata": {
        "id": "DhfoGIvY48RY",
        "outputId": "8e49fb8b-a9ec-43e3-c925-b5a22fba4075",
        "colab": {
          "base_uri": "https://localhost:8080/",
          "height": 204
        }
      },
      "source": [
        "train.head()"
      ],
      "execution_count": null,
      "outputs": [
        {
          "output_type": "execute_result",
          "data": {
            "text/html": [
              "<div>\n",
              "<style scoped>\n",
              "    .dataframe tbody tr th:only-of-type {\n",
              "        vertical-align: middle;\n",
              "    }\n",
              "\n",
              "    .dataframe tbody tr th {\n",
              "        vertical-align: top;\n",
              "    }\n",
              "\n",
              "    .dataframe thead th {\n",
              "        text-align: right;\n",
              "    }\n",
              "</style>\n",
              "<table border=\"1\" class=\"dataframe\">\n",
              "  <thead>\n",
              "    <tr style=\"text-align: right;\">\n",
              "      <th></th>\n",
              "      <th>id</th>\n",
              "      <th>sentiment</th>\n",
              "      <th>review</th>\n",
              "    </tr>\n",
              "  </thead>\n",
              "  <tbody>\n",
              "    <tr>\n",
              "      <th>0</th>\n",
              "      <td>\"5814_8\"</td>\n",
              "      <td>1</td>\n",
              "      <td>\"With all this stuff going down at the moment ...</td>\n",
              "    </tr>\n",
              "    <tr>\n",
              "      <th>1</th>\n",
              "      <td>\"2381_9\"</td>\n",
              "      <td>1</td>\n",
              "      <td>\"\\\"The Classic War of the Worlds\\\" by Timothy ...</td>\n",
              "    </tr>\n",
              "    <tr>\n",
              "      <th>2</th>\n",
              "      <td>\"7759_3\"</td>\n",
              "      <td>0</td>\n",
              "      <td>\"The film starts with a manager (Nicholas Bell...</td>\n",
              "    </tr>\n",
              "    <tr>\n",
              "      <th>3</th>\n",
              "      <td>\"3630_4\"</td>\n",
              "      <td>0</td>\n",
              "      <td>\"It must be assumed that those who praised thi...</td>\n",
              "    </tr>\n",
              "    <tr>\n",
              "      <th>4</th>\n",
              "      <td>\"9495_8\"</td>\n",
              "      <td>1</td>\n",
              "      <td>\"Superbly trashy and wondrously unpretentious ...</td>\n",
              "    </tr>\n",
              "  </tbody>\n",
              "</table>\n",
              "</div>"
            ],
            "text/plain": [
              "         id  sentiment                                             review\n",
              "0  \"5814_8\"          1  \"With all this stuff going down at the moment ...\n",
              "1  \"2381_9\"          1  \"\\\"The Classic War of the Worlds\\\" by Timothy ...\n",
              "2  \"7759_3\"          0  \"The film starts with a manager (Nicholas Bell...\n",
              "3  \"3630_4\"          0  \"It must be assumed that those who praised thi...\n",
              "4  \"9495_8\"          1  \"Superbly trashy and wondrously unpretentious ..."
            ]
          },
          "metadata": {
            "tags": []
          },
          "execution_count": 3
        }
      ]
    },
    {
      "cell_type": "code",
      "metadata": {
        "id": "OOnGgtkL48Ra",
        "outputId": "9be1a99a-29f1-47ab-836a-ba6611103617",
        "colab": {
          "base_uri": "https://localhost:8080/",
          "height": 204
        }
      },
      "source": [
        "# train에 있는 평점정보인 sentiment가 없다.\n",
        "test.head()"
      ],
      "execution_count": null,
      "outputs": [
        {
          "output_type": "execute_result",
          "data": {
            "text/html": [
              "<div>\n",
              "<style scoped>\n",
              "    .dataframe tbody tr th:only-of-type {\n",
              "        vertical-align: middle;\n",
              "    }\n",
              "\n",
              "    .dataframe tbody tr th {\n",
              "        vertical-align: top;\n",
              "    }\n",
              "\n",
              "    .dataframe thead th {\n",
              "        text-align: right;\n",
              "    }\n",
              "</style>\n",
              "<table border=\"1\" class=\"dataframe\">\n",
              "  <thead>\n",
              "    <tr style=\"text-align: right;\">\n",
              "      <th></th>\n",
              "      <th>id</th>\n",
              "      <th>review</th>\n",
              "    </tr>\n",
              "  </thead>\n",
              "  <tbody>\n",
              "    <tr>\n",
              "      <th>0</th>\n",
              "      <td>\"12311_10\"</td>\n",
              "      <td>\"Naturally in a film who's main themes are of ...</td>\n",
              "    </tr>\n",
              "    <tr>\n",
              "      <th>1</th>\n",
              "      <td>\"8348_2\"</td>\n",
              "      <td>\"This movie is a disaster within a disaster fi...</td>\n",
              "    </tr>\n",
              "    <tr>\n",
              "      <th>2</th>\n",
              "      <td>\"5828_4\"</td>\n",
              "      <td>\"All in all, this is a movie for kids. We saw ...</td>\n",
              "    </tr>\n",
              "    <tr>\n",
              "      <th>3</th>\n",
              "      <td>\"7186_2\"</td>\n",
              "      <td>\"Afraid of the Dark left me with the impressio...</td>\n",
              "    </tr>\n",
              "    <tr>\n",
              "      <th>4</th>\n",
              "      <td>\"12128_7\"</td>\n",
              "      <td>\"A very accurate depiction of small time mob l...</td>\n",
              "    </tr>\n",
              "  </tbody>\n",
              "</table>\n",
              "</div>"
            ],
            "text/plain": [
              "           id                                             review\n",
              "0  \"12311_10\"  \"Naturally in a film who's main themes are of ...\n",
              "1    \"8348_2\"  \"This movie is a disaster within a disaster fi...\n",
              "2    \"5828_4\"  \"All in all, this is a movie for kids. We saw ...\n",
              "3    \"7186_2\"  \"Afraid of the Dark left me with the impressio...\n",
              "4   \"12128_7\"  \"A very accurate depiction of small time mob l..."
            ]
          },
          "metadata": {
            "tags": []
          },
          "execution_count": 4
        }
      ]
    },
    {
      "cell_type": "code",
      "metadata": {
        "id": "NneeaQRr539w",
        "outputId": "d4a2efa0-7b0b-4985-ca41-d182660e9a48",
        "colab": {
          "base_uri": "https://localhost:8080/",
          "height": 309
        }
      },
      "source": [
        "!wget https://github.com/corazzon/KaggleStruggle/raw/master/word2vec-nlp-tutorial/KaggleWord2VecUtility.py"
      ],
      "execution_count": null,
      "outputs": [
        {
          "output_type": "stream",
          "text": [
            "--2019-08-19 08:15:46--  https://github.com/corazzon/KaggleStruggle/raw/master/word2vec-nlp-tutorial/KaggleWord2VecUtility.py\n",
            "Resolving github.com (github.com)... 140.82.114.4\n",
            "Connecting to github.com (github.com)|140.82.114.4|:443... connected.\n",
            "HTTP request sent, awaiting response... 302 Found\n",
            "Location: https://raw.githubusercontent.com/corazzon/KaggleStruggle/master/word2vec-nlp-tutorial/KaggleWord2VecUtility.py [following]\n",
            "--2019-08-19 08:15:46--  https://raw.githubusercontent.com/corazzon/KaggleStruggle/master/word2vec-nlp-tutorial/KaggleWord2VecUtility.py\n",
            "Resolving raw.githubusercontent.com (raw.githubusercontent.com)... 151.101.0.133, 151.101.64.133, 151.101.128.133, ...\n",
            "Connecting to raw.githubusercontent.com (raw.githubusercontent.com)|151.101.0.133|:443... connected.\n",
            "HTTP request sent, awaiting response... 200 OK\n",
            "Length: 3250 (3.2K) [text/plain]\n",
            "Saving to: ‘KaggleWord2VecUtility.py’\n",
            "\n",
            "\rKaggleWord2VecUtili   0%[                    ]       0  --.-KB/s               \rKaggleWord2VecUtili 100%[===================>]   3.17K  --.-KB/s    in 0s      \n",
            "\n",
            "2019-08-19 08:15:46 (48.5 MB/s) - ‘KaggleWord2VecUtility.py’ saved [3250/3250]\n",
            "\n"
          ],
          "name": "stdout"
        }
      ]
    },
    {
      "cell_type": "code",
      "metadata": {
        "id": "uGBIm3CU48Rc"
      },
      "source": [
        "from KaggleWord2VecUtility import KaggleWord2VecUtility"
      ],
      "execution_count": null,
      "outputs": []
    },
    {
      "cell_type": "code",
      "metadata": {
        "id": "b9Pha23N48Re",
        "outputId": "79582d5c-6f24-4cc2-ffc8-2641904a0683",
        "colab": {
          "base_uri": "https://localhost:8080/",
          "height": 34
        }
      },
      "source": [
        "KaggleWord2VecUtility.review_to_wordlist(train['review'][0])[:10]"
      ],
      "execution_count": null,
      "outputs": [
        {
          "output_type": "execute_result",
          "data": {
            "text/plain": [
              "['with', 'all', 'this', 'stuff', 'go', 'down', 'at', 'the', 'moment', 'with']"
            ]
          },
          "metadata": {
            "tags": []
          },
          "execution_count": 7
        }
      ]
    },
    {
      "cell_type": "code",
      "metadata": {
        "id": "7aeyqMjV7Q75",
        "outputId": "f268179c-b7b8-46d0-a372-ec4101f15b96",
        "colab": {
          "base_uri": "https://localhost:8080/",
          "height": 68
        }
      },
      "source": [
        "import nltk\n",
        "nltk.download('punkt')"
      ],
      "execution_count": null,
      "outputs": [
        {
          "output_type": "stream",
          "text": [
            "[nltk_data] Downloading package punkt to /root/nltk_data...\n",
            "[nltk_data]   Unzipping tokenizers/punkt.zip.\n"
          ],
          "name": "stdout"
        },
        {
          "output_type": "execute_result",
          "data": {
            "text/plain": [
              "True"
            ]
          },
          "metadata": {
            "tags": []
          },
          "execution_count": 8
        }
      ]
    },
    {
      "cell_type": "code",
      "metadata": {
        "id": "cDa5yj3L48Rh"
      },
      "source": [
        "sentences = []\n",
        "for review in train[\"review\"]:\n",
        "    sentences += KaggleWord2VecUtility.review_to_sentences(\n",
        "        review, remove_stopwords=False)"
      ],
      "execution_count": null,
      "outputs": []
    },
    {
      "cell_type": "code",
      "metadata": {
        "id": "iY4uVOON48Rj"
      },
      "source": [
        "for review in unlabeled_train[\"review\"]:\n",
        "    sentences += KaggleWord2VecUtility.review_to_sentences(\n",
        "        review, remove_stopwords=False)"
      ],
      "execution_count": null,
      "outputs": []
    },
    {
      "cell_type": "code",
      "metadata": {
        "id": "b5ZEbIZz48Rl",
        "outputId": "effee58b-d210-4e72-be20-8ee069806179",
        "colab": {
          "base_uri": "https://localhost:8080/",
          "height": 34
        }
      },
      "source": [
        "len(sentences)"
      ],
      "execution_count": null,
      "outputs": [
        {
          "output_type": "execute_result",
          "data": {
            "text/plain": [
              "795538"
            ]
          },
          "metadata": {
            "tags": []
          },
          "execution_count": 11
        }
      ]
    },
    {
      "cell_type": "code",
      "metadata": {
        "id": "5li59ue448Rn",
        "outputId": "f3b723ba-ffdd-47eb-95d6-7389ccd0cb7c",
        "colab": {
          "base_uri": "https://localhost:8080/",
          "height": 34
        }
      },
      "source": [
        "sentences[0][:10]"
      ],
      "execution_count": null,
      "outputs": [
        {
          "output_type": "execute_result",
          "data": {
            "text/plain": [
              "['with', 'all', 'this', 'stuff', 'go', 'down', 'at', 'the', 'moment', 'with']"
            ]
          },
          "metadata": {
            "tags": []
          },
          "execution_count": 12
        }
      ]
    },
    {
      "cell_type": "code",
      "metadata": {
        "id": "ckxkI_-a48Rq",
        "outputId": "851c89c5-4874-4f88-bec6-da0c51eab2f7",
        "colab": {
          "base_uri": "https://localhost:8080/",
          "height": 34
        }
      },
      "source": [
        "sentences[1][:10]"
      ],
      "execution_count": null,
      "outputs": [
        {
          "output_type": "execute_result",
          "data": {
            "text/plain": [
              "['mayb', 'i', 'just', 'want', 'to', 'get', 'a', 'certain', 'insight', 'into']"
            ]
          },
          "metadata": {
            "tags": []
          },
          "execution_count": 13
        }
      ]
    },
    {
      "cell_type": "markdown",
      "metadata": {
        "id": "9Wa04EhQ48Rs"
      },
      "source": [
        "### Word2Vec 모델을 학습\n",
        "전처리를 거쳐 파싱된 문장의 목록으로 모델을 학습시킬 준비가 되었다.\n",
        "\n",
        "## Gensim\n",
        "* [gensim: models.word2vec – Deep learning with word2vec](https://radimrehurek.com/gensim/models/word2vec.html)\n",
        "\n",
        "### Word2Vec 모델의 파라메터\n",
        "\n",
        "* 아키텍처 : 아키텍처 옵션은 skip-gram (default) 또는  CBOW 모델이다. skip-gram (default)은 느리지 만 더 나은 결과를 낸다.\n",
        "\n",
        "* 학습 알고리즘 : Hierarchical softmax (default) 또는 negative 샘플링. 여기에서는 기본값이 잘 동작한다.\n",
        "\n",
        "* 빈번하게 등장하는 단어에 대한 다운 샘플링 : Google 문서는 .00001에서 .001 사이의 값을 권장한다. 여기에서는 0.001에 가까운 값이 최종 모델의 정확도를 높이는 것으로 보여진다.\n",
        "\n",
        "* 단어 벡터 차원 : 많은 feature를 사용한다고 항상 좋은 것은 아니지만 대체적으로 좀 더 나은 모델이 된다. 합리적인 값은 수십에서 수백 개가 될 수 있고 여기에서는 300으로 지정했다.\n",
        "\n",
        "* 컨텍스트 / 창 크기 : 학습 알고리즘이 고려해야하는 컨텍스트의 단어 수는 얼마나 될까? hierarchical softmax 를 위해 좀 더 큰 수가 좋지만 10 정도가 적당하다. \n",
        "\n",
        "* Worker threads : 실행할 병렬 프로세스의 수로 컴퓨터마다 다르지만 대부분의 시스템에서 4에서 6 사이의 값을 사용하다.\n",
        "\n",
        "* 최소 단어 수 : 어휘의 크기를 의미있는 단어로 제한하는 데 도움이 된다. 모든 문서에서이 여러 번 발생하지 않는 단어는 무시된다. 10에서 100 사이가 적당하며, 이 경진대회의 데이터는 각 영화가 30개씩의 리뷰가 있기 때문에 개별 영화 제목에 너무 많은 중요성이 붙는 것을 피하기 위해 최소 단어 수를 40으로 설정한다. 그 결과 전체 어휘 크기는 약 15,000 단어가 된다. 높은 값은 제한 된 실행시간에 도움이 된다."
      ]
    },
    {
      "cell_type": "code",
      "metadata": {
        "id": "Yi50_yd548Rt"
      },
      "source": [
        "import logging\n",
        "logging.basicConfig(\n",
        "    format='%(asctime)s : %(levelname)s : %(message)s', \n",
        "    level=logging.INFO)"
      ],
      "execution_count": null,
      "outputs": []
    },
    {
      "cell_type": "code",
      "metadata": {
        "id": "U7NeqLvj48Rv",
        "outputId": "df119ee3-da8a-4dbf-ee5a-b92f758afe64",
        "colab": {
          "base_uri": "https://localhost:8080/",
          "height": 1000
        }
      },
      "source": [
        "# 파라메터값 지정\n",
        "num_features = 300 # 문자 벡터 차원 수\n",
        "min_word_count = 40 # 최소 문자 수\n",
        "num_workers = 4 # 병렬 처리 스레드 수\n",
        "context = 10 # 문자열 창 크기\n",
        "downsampling = 1e-3 # 문자 빈도 수 Downsample\n",
        "\n",
        "# 초기화 및 모델 학습\n",
        "from gensim.models import word2vec\n",
        "\n",
        "# 모델 학습\n",
        "model = word2vec.Word2Vec(sentences, \n",
        "                          workers=num_workers, \n",
        "                          size=num_features, \n",
        "                          min_count=min_word_count,\n",
        "                          window=context,\n",
        "                          sample=downsampling)\n",
        "model"
      ],
      "execution_count": null,
      "outputs": [
        {
          "output_type": "stream",
          "text": [
            "2019-08-19 08:22:11,961 : INFO : 'pattern' package not found; tag filters are not available for English\n",
            "2019-08-19 08:22:11,971 : INFO : collecting all words and their counts\n",
            "2019-08-19 08:22:11,972 : INFO : PROGRESS: at sentence #0, processed 0 words, keeping 0 word types\n",
            "2019-08-19 08:22:12,029 : INFO : PROGRESS: at sentence #10000, processed 225803 words, keeping 12465 word types\n",
            "2019-08-19 08:22:12,089 : INFO : PROGRESS: at sentence #20000, processed 451892 words, keeping 17070 word types\n",
            "2019-08-19 08:22:12,143 : INFO : PROGRESS: at sentence #30000, processed 671314 words, keeping 20370 word types\n",
            "2019-08-19 08:22:12,206 : INFO : PROGRESS: at sentence #40000, processed 897814 words, keeping 23125 word types\n",
            "2019-08-19 08:22:12,266 : INFO : PROGRESS: at sentence #50000, processed 1116962 words, keeping 25365 word types\n",
            "2019-08-19 08:22:12,326 : INFO : PROGRESS: at sentence #60000, processed 1338403 words, keeping 27283 word types\n",
            "2019-08-19 08:22:12,385 : INFO : PROGRESS: at sentence #70000, processed 1561579 words, keeping 29024 word types\n",
            "2019-08-19 08:22:12,447 : INFO : PROGRESS: at sentence #80000, processed 1780886 words, keeping 30603 word types\n",
            "2019-08-19 08:22:12,505 : INFO : PROGRESS: at sentence #90000, processed 2004995 words, keeping 32223 word types\n",
            "2019-08-19 08:22:12,564 : INFO : PROGRESS: at sentence #100000, processed 2226966 words, keeping 33579 word types\n",
            "2019-08-19 08:22:12,624 : INFO : PROGRESS: at sentence #110000, processed 2446580 words, keeping 34827 word types\n",
            "2019-08-19 08:22:12,682 : INFO : PROGRESS: at sentence #120000, processed 2668775 words, keeping 36183 word types\n",
            "2019-08-19 08:22:12,746 : INFO : PROGRESS: at sentence #130000, processed 2894303 words, keeping 37353 word types\n",
            "2019-08-19 08:22:12,803 : INFO : PROGRESS: at sentence #140000, processed 3107005 words, keeping 38376 word types\n",
            "2019-08-19 08:22:12,867 : INFO : PROGRESS: at sentence #150000, processed 3332627 words, keeping 39556 word types\n",
            "2019-08-19 08:22:12,927 : INFO : PROGRESS: at sentence #160000, processed 3555315 words, keeping 40629 word types\n",
            "2019-08-19 08:22:12,987 : INFO : PROGRESS: at sentence #170000, processed 3778655 words, keeping 41628 word types\n",
            "2019-08-19 08:22:13,047 : INFO : PROGRESS: at sentence #180000, processed 3999236 words, keeping 42599 word types\n",
            "2019-08-19 08:22:13,114 : INFO : PROGRESS: at sentence #190000, processed 4224449 words, keeping 43461 word types\n",
            "2019-08-19 08:22:13,177 : INFO : PROGRESS: at sentence #200000, processed 4448603 words, keeping 44301 word types\n",
            "2019-08-19 08:22:13,237 : INFO : PROGRESS: at sentence #210000, processed 4669967 words, keeping 45212 word types\n",
            "2019-08-19 08:22:13,301 : INFO : PROGRESS: at sentence #220000, processed 4894968 words, keeping 46134 word types\n",
            "2019-08-19 08:22:13,360 : INFO : PROGRESS: at sentence #230000, processed 5117546 words, keeping 46986 word types\n",
            "2019-08-19 08:22:13,421 : INFO : PROGRESS: at sentence #240000, processed 5345051 words, keeping 47854 word types\n",
            "2019-08-19 08:22:13,478 : INFO : PROGRESS: at sentence #250000, processed 5559166 words, keeping 48699 word types\n",
            "2019-08-19 08:22:13,537 : INFO : PROGRESS: at sentence #260000, processed 5779147 words, keeping 49469 word types\n",
            "2019-08-19 08:22:13,597 : INFO : PROGRESS: at sentence #270000, processed 6000436 words, keeping 50416 word types\n",
            "2019-08-19 08:22:13,662 : INFO : PROGRESS: at sentence #280000, processed 6226315 words, keeping 51640 word types\n",
            "2019-08-19 08:22:13,725 : INFO : PROGRESS: at sentence #290000, processed 6449475 words, keeping 52754 word types\n",
            "2019-08-19 08:22:13,786 : INFO : PROGRESS: at sentence #300000, processed 6674078 words, keeping 53755 word types\n",
            "2019-08-19 08:22:13,847 : INFO : PROGRESS: at sentence #310000, processed 6899392 words, keeping 54734 word types\n",
            "2019-08-19 08:22:13,913 : INFO : PROGRESS: at sentence #320000, processed 7124279 words, keeping 55770 word types\n",
            "2019-08-19 08:22:13,974 : INFO : PROGRESS: at sentence #330000, processed 7346022 words, keeping 56687 word types\n",
            "2019-08-19 08:22:14,036 : INFO : PROGRESS: at sentence #340000, processed 7575534 words, keeping 57629 word types\n",
            "2019-08-19 08:22:14,098 : INFO : PROGRESS: at sentence #350000, processed 7798804 words, keeping 58485 word types\n",
            "2019-08-19 08:22:14,161 : INFO : PROGRESS: at sentence #360000, processed 8019467 words, keeping 59345 word types\n",
            "2019-08-19 08:22:14,224 : INFO : PROGRESS: at sentence #370000, processed 8246659 words, keeping 60161 word types\n",
            "2019-08-19 08:22:14,285 : INFO : PROGRESS: at sentence #380000, processed 8471806 words, keeping 61069 word types\n",
            "2019-08-19 08:22:14,347 : INFO : PROGRESS: at sentence #390000, processed 8701556 words, keeping 61810 word types\n",
            "2019-08-19 08:22:14,410 : INFO : PROGRESS: at sentence #400000, processed 8924505 words, keeping 62546 word types\n",
            "2019-08-19 08:22:14,469 : INFO : PROGRESS: at sentence #410000, processed 9145855 words, keeping 63263 word types\n",
            "2019-08-19 08:22:14,530 : INFO : PROGRESS: at sentence #420000, processed 9366935 words, keeping 64024 word types\n",
            "2019-08-19 08:22:14,591 : INFO : PROGRESS: at sentence #430000, processed 9594472 words, keeping 64795 word types\n",
            "2019-08-19 08:22:14,652 : INFO : PROGRESS: at sentence #440000, processed 9821225 words, keeping 65539 word types\n",
            "2019-08-19 08:22:14,715 : INFO : PROGRESS: at sentence #450000, processed 10044987 words, keeping 66378 word types\n",
            "2019-08-19 08:22:14,777 : INFO : PROGRESS: at sentence #460000, processed 10277747 words, keeping 67158 word types\n",
            "2019-08-19 08:22:14,838 : INFO : PROGRESS: at sentence #470000, processed 10505672 words, keeping 67775 word types\n",
            "2019-08-19 08:22:14,898 : INFO : PROGRESS: at sentence #480000, processed 10726056 words, keeping 68500 word types\n",
            "2019-08-19 08:22:14,959 : INFO : PROGRESS: at sentence #490000, processed 10952800 words, keeping 69256 word types\n",
            "2019-08-19 08:22:15,018 : INFO : PROGRESS: at sentence #500000, processed 11174456 words, keeping 69892 word types\n",
            "2019-08-19 08:22:15,083 : INFO : PROGRESS: at sentence #510000, processed 11399731 words, keeping 70593 word types\n",
            "2019-08-19 08:22:15,143 : INFO : PROGRESS: at sentence #520000, processed 11623082 words, keeping 71267 word types\n",
            "2019-08-19 08:22:15,203 : INFO : PROGRESS: at sentence #530000, processed 11847480 words, keeping 71877 word types\n",
            "2019-08-19 08:22:15,268 : INFO : PROGRESS: at sentence #540000, processed 12072095 words, keeping 72537 word types\n",
            "2019-08-19 08:22:15,330 : INFO : PROGRESS: at sentence #550000, processed 12297646 words, keeping 73212 word types\n",
            "2019-08-19 08:22:15,392 : INFO : PROGRESS: at sentence #560000, processed 12518936 words, keeping 73861 word types\n",
            "2019-08-19 08:22:15,455 : INFO : PROGRESS: at sentence #570000, processed 12748083 words, keeping 74431 word types\n",
            "2019-08-19 08:22:15,516 : INFO : PROGRESS: at sentence #580000, processed 12969579 words, keeping 75087 word types\n",
            "2019-08-19 08:22:15,579 : INFO : PROGRESS: at sentence #590000, processed 13195103 words, keeping 75734 word types\n",
            "2019-08-19 08:22:15,640 : INFO : PROGRESS: at sentence #600000, processed 13417301 words, keeping 76295 word types\n",
            "2019-08-19 08:22:15,700 : INFO : PROGRESS: at sentence #610000, processed 13638324 words, keeping 76953 word types\n",
            "2019-08-19 08:22:15,764 : INFO : PROGRESS: at sentence #620000, processed 13864649 words, keeping 77504 word types\n",
            "2019-08-19 08:22:15,826 : INFO : PROGRESS: at sentence #630000, processed 14088935 words, keeping 78067 word types\n",
            "2019-08-19 08:22:15,886 : INFO : PROGRESS: at sentence #640000, processed 14309718 words, keeping 78693 word types\n",
            "2019-08-19 08:22:15,947 : INFO : PROGRESS: at sentence #650000, processed 14535474 words, keeping 79296 word types\n",
            "2019-08-19 08:22:16,008 : INFO : PROGRESS: at sentence #660000, processed 14758264 words, keeping 79865 word types\n",
            "2019-08-19 08:22:16,072 : INFO : PROGRESS: at sentence #670000, processed 14981657 words, keeping 80382 word types\n",
            "2019-08-19 08:22:16,136 : INFO : PROGRESS: at sentence #680000, processed 15206489 words, keeping 80913 word types\n",
            "2019-08-19 08:22:16,198 : INFO : PROGRESS: at sentence #690000, processed 15428682 words, keeping 81483 word types\n",
            "2019-08-19 08:22:16,261 : INFO : PROGRESS: at sentence #700000, processed 15657388 words, keeping 82075 word types\n",
            "2019-08-19 08:22:16,323 : INFO : PROGRESS: at sentence #710000, processed 15880377 words, keeping 82561 word types\n",
            "2019-08-19 08:22:16,386 : INFO : PROGRESS: at sentence #720000, processed 16105664 words, keeping 83037 word types\n",
            "2019-08-19 08:22:16,448 : INFO : PROGRESS: at sentence #730000, processed 16332045 words, keeping 83572 word types\n",
            "2019-08-19 08:22:16,507 : INFO : PROGRESS: at sentence #740000, processed 16553078 words, keeping 84128 word types\n",
            "2019-08-19 08:22:16,566 : INFO : PROGRESS: at sentence #750000, processed 16771405 words, keeping 84600 word types\n",
            "2019-08-19 08:22:16,625 : INFO : PROGRESS: at sentence #760000, processed 16990809 words, keeping 85069 word types\n",
            "2019-08-19 08:22:16,687 : INFO : PROGRESS: at sentence #770000, processed 17217946 words, keeping 85645 word types\n",
            "2019-08-19 08:22:16,750 : INFO : PROGRESS: at sentence #780000, processed 17448092 words, keeping 86161 word types\n",
            "2019-08-19 08:22:16,815 : INFO : PROGRESS: at sentence #790000, processed 17675168 words, keeping 86666 word types\n",
            "2019-08-19 08:22:16,850 : INFO : collected 86997 word types from a corpus of 17798269 raw words and 795538 sentences\n",
            "2019-08-19 08:22:16,852 : INFO : Loading a fresh vocabulary\n",
            "2019-08-19 08:22:16,930 : INFO : effective_min_count=40 retains 11986 unique words (13% of original 86997, drops 75011)\n",
            "2019-08-19 08:22:16,931 : INFO : effective_min_count=40 leaves 17434031 word corpus (97% of original 17798269, drops 364238)\n",
            "2019-08-19 08:22:16,978 : INFO : deleting the raw counts dictionary of 86997 items\n",
            "2019-08-19 08:22:16,983 : INFO : sample=0.001 downsamples 50 most-common words\n",
            "2019-08-19 08:22:16,985 : INFO : downsampling leaves estimated 12872362 word corpus (73.8% of prior 17434031)\n",
            "2019-08-19 08:22:17,040 : INFO : estimated required memory for 11986 words and 300 dimensions: 34759400 bytes\n",
            "2019-08-19 08:22:17,041 : INFO : resetting layer weights\n",
            "2019-08-19 08:22:17,201 : INFO : training model with 4 workers on 11986 vocabulary and 300 features, using sg=0 hs=0 sample=0.001 negative=5 window=10\n",
            "2019-08-19 08:22:18,215 : INFO : EPOCH 1 - PROGRESS: at 2.45% examples, 316823 words/s, in_qsize 7, out_qsize 0\n",
            "2019-08-19 08:22:19,219 : INFO : EPOCH 1 - PROGRESS: at 5.09% examples, 327425 words/s, in_qsize 7, out_qsize 0\n",
            "2019-08-19 08:22:20,229 : INFO : EPOCH 1 - PROGRESS: at 7.77% examples, 329998 words/s, in_qsize 7, out_qsize 0\n",
            "2019-08-19 08:22:21,258 : INFO : EPOCH 1 - PROGRESS: at 10.53% examples, 333583 words/s, in_qsize 8, out_qsize 0\n",
            "2019-08-19 08:22:22,260 : INFO : EPOCH 1 - PROGRESS: at 13.08% examples, 331882 words/s, in_qsize 8, out_qsize 0\n",
            "2019-08-19 08:22:23,291 : INFO : EPOCH 1 - PROGRESS: at 15.73% examples, 331392 words/s, in_qsize 7, out_qsize 0\n",
            "2019-08-19 08:22:24,300 : INFO : EPOCH 1 - PROGRESS: at 18.42% examples, 331984 words/s, in_qsize 6, out_qsize 1\n",
            "2019-08-19 08:22:25,333 : INFO : EPOCH 1 - PROGRESS: at 21.12% examples, 332460 words/s, in_qsize 7, out_qsize 0\n",
            "2019-08-19 08:22:26,346 : INFO : EPOCH 1 - PROGRESS: at 23.82% examples, 333528 words/s, in_qsize 7, out_qsize 0\n",
            "2019-08-19 08:22:27,371 : INFO : EPOCH 1 - PROGRESS: at 26.46% examples, 333281 words/s, in_qsize 7, out_qsize 0\n",
            "2019-08-19 08:22:28,384 : INFO : EPOCH 1 - PROGRESS: at 29.09% examples, 333389 words/s, in_qsize 6, out_qsize 1\n",
            "2019-08-19 08:22:29,397 : INFO : EPOCH 1 - PROGRESS: at 31.79% examples, 333518 words/s, in_qsize 7, out_qsize 0\n",
            "2019-08-19 08:22:30,450 : INFO : EPOCH 1 - PROGRESS: at 34.54% examples, 333887 words/s, in_qsize 7, out_qsize 1\n",
            "2019-08-19 08:22:31,500 : INFO : EPOCH 1 - PROGRESS: at 37.28% examples, 333889 words/s, in_qsize 7, out_qsize 0\n",
            "2019-08-19 08:22:32,507 : INFO : EPOCH 1 - PROGRESS: at 39.96% examples, 334571 words/s, in_qsize 7, out_qsize 0\n",
            "2019-08-19 08:22:33,509 : INFO : EPOCH 1 - PROGRESS: at 42.57% examples, 334824 words/s, in_qsize 7, out_qsize 0\n",
            "2019-08-19 08:22:34,530 : INFO : EPOCH 1 - PROGRESS: at 45.23% examples, 334694 words/s, in_qsize 7, out_qsize 0\n",
            "2019-08-19 08:22:35,536 : INFO : EPOCH 1 - PROGRESS: at 47.84% examples, 334803 words/s, in_qsize 7, out_qsize 0\n",
            "2019-08-19 08:22:36,543 : INFO : EPOCH 1 - PROGRESS: at 50.45% examples, 334949 words/s, in_qsize 7, out_qsize 0\n",
            "2019-08-19 08:22:37,549 : INFO : EPOCH 1 - PROGRESS: at 53.05% examples, 334709 words/s, in_qsize 6, out_qsize 1\n",
            "2019-08-19 08:22:38,564 : INFO : EPOCH 1 - PROGRESS: at 55.72% examples, 335050 words/s, in_qsize 7, out_qsize 0\n",
            "2019-08-19 08:22:39,571 : INFO : EPOCH 1 - PROGRESS: at 58.29% examples, 335099 words/s, in_qsize 7, out_qsize 0\n",
            "2019-08-19 08:22:40,573 : INFO : EPOCH 1 - PROGRESS: at 60.80% examples, 334639 words/s, in_qsize 8, out_qsize 1\n",
            "2019-08-19 08:22:41,582 : INFO : EPOCH 1 - PROGRESS: at 63.50% examples, 335010 words/s, in_qsize 7, out_qsize 0\n",
            "2019-08-19 08:22:42,622 : INFO : EPOCH 1 - PROGRESS: at 66.17% examples, 334943 words/s, in_qsize 7, out_qsize 0\n",
            "2019-08-19 08:22:43,637 : INFO : EPOCH 1 - PROGRESS: at 68.83% examples, 334903 words/s, in_qsize 7, out_qsize 0\n",
            "2019-08-19 08:22:44,661 : INFO : EPOCH 1 - PROGRESS: at 71.54% examples, 335303 words/s, in_qsize 7, out_qsize 0\n",
            "2019-08-19 08:22:45,674 : INFO : EPOCH 1 - PROGRESS: at 74.12% examples, 335040 words/s, in_qsize 6, out_qsize 1\n",
            "2019-08-19 08:22:46,677 : INFO : EPOCH 1 - PROGRESS: at 76.82% examples, 335403 words/s, in_qsize 7, out_qsize 0\n",
            "2019-08-19 08:22:47,695 : INFO : EPOCH 1 - PROGRESS: at 79.40% examples, 335102 words/s, in_qsize 7, out_qsize 0\n",
            "2019-08-19 08:22:48,709 : INFO : EPOCH 1 - PROGRESS: at 81.98% examples, 334838 words/s, in_qsize 7, out_qsize 0\n",
            "2019-08-19 08:22:49,727 : INFO : EPOCH 1 - PROGRESS: at 84.62% examples, 334792 words/s, in_qsize 7, out_qsize 0\n",
            "2019-08-19 08:22:50,733 : INFO : EPOCH 1 - PROGRESS: at 87.26% examples, 334869 words/s, in_qsize 7, out_qsize 0\n",
            "2019-08-19 08:22:51,743 : INFO : EPOCH 1 - PROGRESS: at 89.80% examples, 334678 words/s, in_qsize 7, out_qsize 0\n",
            "2019-08-19 08:22:52,785 : INFO : EPOCH 1 - PROGRESS: at 92.50% examples, 334617 words/s, in_qsize 7, out_qsize 0\n",
            "2019-08-19 08:22:53,796 : INFO : EPOCH 1 - PROGRESS: at 95.17% examples, 334644 words/s, in_qsize 7, out_qsize 0\n",
            "2019-08-19 08:22:54,804 : INFO : EPOCH 1 - PROGRESS: at 97.78% examples, 334745 words/s, in_qsize 7, out_qsize 0\n",
            "2019-08-19 08:22:55,589 : INFO : worker thread finished; awaiting finish of 3 more threads\n",
            "2019-08-19 08:22:55,610 : INFO : worker thread finished; awaiting finish of 2 more threads\n",
            "2019-08-19 08:22:55,620 : INFO : worker thread finished; awaiting finish of 1 more threads\n",
            "2019-08-19 08:22:55,628 : INFO : worker thread finished; awaiting finish of 0 more threads\n",
            "2019-08-19 08:22:55,629 : INFO : EPOCH - 1 : training on 17798269 raw words (12870016 effective words) took 38.4s, 335008 effective words/s\n",
            "2019-08-19 08:22:56,650 : INFO : EPOCH 2 - PROGRESS: at 2.50% examples, 322146 words/s, in_qsize 7, out_qsize 0\n",
            "2019-08-19 08:22:57,670 : INFO : EPOCH 2 - PROGRESS: at 5.14% examples, 327337 words/s, in_qsize 7, out_qsize 0\n",
            "2019-08-19 08:22:58,670 : INFO : EPOCH 2 - PROGRESS: at 7.83% examples, 331046 words/s, in_qsize 7, out_qsize 0\n",
            "2019-08-19 08:22:59,673 : INFO : EPOCH 2 - PROGRESS: at 10.47% examples, 332845 words/s, in_qsize 7, out_qsize 0\n",
            "2019-08-19 08:23:00,682 : INFO : EPOCH 2 - PROGRESS: at 13.08% examples, 332217 words/s, in_qsize 7, out_qsize 0\n",
            "2019-08-19 08:23:01,689 : INFO : EPOCH 2 - PROGRESS: at 15.67% examples, 331930 words/s, in_qsize 7, out_qsize 1\n",
            "2019-08-19 08:23:02,697 : INFO : EPOCH 2 - PROGRESS: at 18.36% examples, 332508 words/s, in_qsize 6, out_qsize 1\n",
            "2019-08-19 08:23:03,705 : INFO : EPOCH 2 - PROGRESS: at 21.01% examples, 332981 words/s, in_qsize 7, out_qsize 0\n",
            "2019-08-19 08:23:04,720 : INFO : EPOCH 2 - PROGRESS: at 23.65% examples, 333136 words/s, in_qsize 7, out_qsize 0\n",
            "2019-08-19 08:23:05,742 : INFO : EPOCH 2 - PROGRESS: at 26.30% examples, 333469 words/s, in_qsize 8, out_qsize 1\n",
            "2019-08-19 08:23:06,746 : INFO : EPOCH 2 - PROGRESS: at 28.99% examples, 334096 words/s, in_qsize 7, out_qsize 0\n",
            "2019-08-19 08:23:07,747 : INFO : EPOCH 2 - PROGRESS: at 31.62% examples, 333902 words/s, in_qsize 7, out_qsize 0\n",
            "2019-08-19 08:23:08,764 : INFO : EPOCH 2 - PROGRESS: at 34.27% examples, 333820 words/s, in_qsize 7, out_qsize 0\n",
            "2019-08-19 08:23:09,778 : INFO : EPOCH 2 - PROGRESS: at 36.90% examples, 333875 words/s, in_qsize 6, out_qsize 1\n",
            "2019-08-19 08:23:10,795 : INFO : EPOCH 2 - PROGRESS: at 39.59% examples, 334343 words/s, in_qsize 8, out_qsize 0\n",
            "2019-08-19 08:23:11,809 : INFO : EPOCH 2 - PROGRESS: at 42.14% examples, 333911 words/s, in_qsize 7, out_qsize 0\n",
            "2019-08-19 08:23:12,873 : INFO : EPOCH 2 - PROGRESS: at 44.89% examples, 333832 words/s, in_qsize 6, out_qsize 1\n",
            "2019-08-19 08:23:13,876 : INFO : EPOCH 2 - PROGRESS: at 47.50% examples, 334066 words/s, in_qsize 7, out_qsize 0\n",
            "2019-08-19 08:23:14,892 : INFO : EPOCH 2 - PROGRESS: at 50.16% examples, 334451 words/s, in_qsize 7, out_qsize 0\n",
            "2019-08-19 08:23:15,901 : INFO : EPOCH 2 - PROGRESS: at 52.78% examples, 334236 words/s, in_qsize 7, out_qsize 1\n",
            "2019-08-19 08:23:16,908 : INFO : EPOCH 2 - PROGRESS: at 55.44% examples, 334749 words/s, in_qsize 7, out_qsize 0\n",
            "2019-08-19 08:23:17,917 : INFO : EPOCH 2 - PROGRESS: at 58.01% examples, 334711 words/s, in_qsize 7, out_qsize 0\n",
            "2019-08-19 08:23:18,921 : INFO : EPOCH 2 - PROGRESS: at 60.58% examples, 334560 words/s, in_qsize 7, out_qsize 0\n",
            "2019-08-19 08:23:19,950 : INFO : EPOCH 2 - PROGRESS: at 63.28% examples, 334640 words/s, in_qsize 6, out_qsize 1\n",
            "2019-08-19 08:23:20,951 : INFO : EPOCH 2 - PROGRESS: at 65.95% examples, 335102 words/s, in_qsize 7, out_qsize 0\n",
            "2019-08-19 08:23:21,973 : INFO : EPOCH 2 - PROGRESS: at 68.61% examples, 334977 words/s, in_qsize 6, out_qsize 1\n",
            "2019-08-19 08:23:22,979 : INFO : EPOCH 2 - PROGRESS: at 71.22% examples, 335085 words/s, in_qsize 7, out_qsize 0\n",
            "2019-08-19 08:23:24,018 : INFO : EPOCH 2 - PROGRESS: at 73.95% examples, 335277 words/s, in_qsize 7, out_qsize 0\n",
            "2019-08-19 08:23:25,019 : INFO : EPOCH 2 - PROGRESS: at 76.60% examples, 335406 words/s, in_qsize 7, out_qsize 0\n",
            "2019-08-19 08:23:26,039 : INFO : EPOCH 2 - PROGRESS: at 79.22% examples, 335323 words/s, in_qsize 7, out_qsize 0\n",
            "2019-08-19 08:23:27,041 : INFO : EPOCH 2 - PROGRESS: at 81.82% examples, 335187 words/s, in_qsize 6, out_qsize 1\n",
            "2019-08-19 08:23:28,083 : INFO : EPOCH 2 - PROGRESS: at 84.50% examples, 335109 words/s, in_qsize 7, out_qsize 0\n",
            "2019-08-19 08:23:29,083 : INFO : EPOCH 2 - PROGRESS: at 87.14% examples, 335219 words/s, in_qsize 7, out_qsize 0\n",
            "2019-08-19 08:23:30,099 : INFO : EPOCH 2 - PROGRESS: at 89.74% examples, 335188 words/s, in_qsize 7, out_qsize 0\n",
            "2019-08-19 08:23:31,103 : INFO : EPOCH 2 - PROGRESS: at 92.39% examples, 335282 words/s, in_qsize 8, out_qsize 1\n",
            "2019-08-19 08:23:32,170 : INFO : EPOCH 2 - PROGRESS: at 95.17% examples, 335175 words/s, in_qsize 6, out_qsize 1\n",
            "2019-08-19 08:23:33,187 : INFO : EPOCH 2 - PROGRESS: at 97.84% examples, 335331 words/s, in_qsize 7, out_qsize 0\n",
            "2019-08-19 08:23:33,930 : INFO : worker thread finished; awaiting finish of 3 more threads\n",
            "2019-08-19 08:23:33,964 : INFO : worker thread finished; awaiting finish of 2 more threads\n",
            "2019-08-19 08:23:33,973 : INFO : worker thread finished; awaiting finish of 1 more threads\n",
            "2019-08-19 08:23:33,977 : INFO : worker thread finished; awaiting finish of 0 more threads\n",
            "2019-08-19 08:23:33,979 : INFO : EPOCH - 2 : training on 17798269 raw words (12871771 effective words) took 38.3s, 335726 effective words/s\n",
            "2019-08-19 08:23:35,012 : INFO : EPOCH 3 - PROGRESS: at 2.50% examples, 318804 words/s, in_qsize 7, out_qsize 0\n",
            "2019-08-19 08:23:36,026 : INFO : EPOCH 3 - PROGRESS: at 5.19% examples, 330114 words/s, in_qsize 7, out_qsize 0\n",
            "2019-08-19 08:23:37,059 : INFO : EPOCH 3 - PROGRESS: at 7.94% examples, 331523 words/s, in_qsize 7, out_qsize 0\n",
            "2019-08-19 08:23:38,081 : INFO : EPOCH 3 - PROGRESS: at 10.53% examples, 329916 words/s, in_qsize 7, out_qsize 0\n",
            "2019-08-19 08:23:39,082 : INFO : EPOCH 3 - PROGRESS: at 13.20% examples, 331786 words/s, in_qsize 6, out_qsize 1\n",
            "2019-08-19 08:23:40,087 : INFO : EPOCH 3 - PROGRESS: at 15.84% examples, 332815 words/s, in_qsize 7, out_qsize 0\n",
            "2019-08-19 08:23:41,101 : INFO : EPOCH 3 - PROGRESS: at 18.52% examples, 333026 words/s, in_qsize 6, out_qsize 1\n",
            "2019-08-19 08:23:42,108 : INFO : EPOCH 3 - PROGRESS: at 21.19% examples, 333539 words/s, in_qsize 7, out_qsize 0\n",
            "2019-08-19 08:23:43,132 : INFO : EPOCH 3 - PROGRESS: at 23.82% examples, 333334 words/s, in_qsize 7, out_qsize 0\n",
            "2019-08-19 08:23:44,158 : INFO : EPOCH 3 - PROGRESS: at 26.46% examples, 333097 words/s, in_qsize 7, out_qsize 0\n",
            "2019-08-19 08:23:45,167 : INFO : EPOCH 3 - PROGRESS: at 29.09% examples, 333372 words/s, in_qsize 7, out_qsize 0\n",
            "2019-08-19 08:23:46,180 : INFO : EPOCH 3 - PROGRESS: at 31.79% examples, 333472 words/s, in_qsize 7, out_qsize 0\n",
            "2019-08-19 08:23:47,193 : INFO : EPOCH 3 - PROGRESS: at 34.49% examples, 334085 words/s, in_qsize 7, out_qsize 0\n",
            "2019-08-19 08:23:48,216 : INFO : EPOCH 3 - PROGRESS: at 37.11% examples, 333909 words/s, in_qsize 6, out_qsize 1\n",
            "2019-08-19 08:23:49,271 : INFO : EPOCH 3 - PROGRESS: at 39.81% examples, 333538 words/s, in_qsize 7, out_qsize 0\n",
            "2019-08-19 08:23:50,324 : INFO : EPOCH 3 - PROGRESS: at 42.52% examples, 333712 words/s, in_qsize 6, out_qsize 1\n",
            "2019-08-19 08:23:51,342 : INFO : EPOCH 3 - PROGRESS: at 45.18% examples, 333728 words/s, in_qsize 7, out_qsize 1\n",
            "2019-08-19 08:23:52,356 : INFO : EPOCH 3 - PROGRESS: at 47.84% examples, 334144 words/s, in_qsize 7, out_qsize 0\n",
            "2019-08-19 08:23:53,365 : INFO : EPOCH 3 - PROGRESS: at 50.45% examples, 334282 words/s, in_qsize 7, out_qsize 0\n",
            "2019-08-19 08:23:54,387 : INFO : EPOCH 3 - PROGRESS: at 53.10% examples, 334161 words/s, in_qsize 7, out_qsize 0\n",
            "2019-08-19 08:23:55,414 : INFO : EPOCH 3 - PROGRESS: at 55.77% examples, 334296 words/s, in_qsize 7, out_qsize 0\n",
            "2019-08-19 08:23:56,419 : INFO : EPOCH 3 - PROGRESS: at 58.29% examples, 334090 words/s, in_qsize 7, out_qsize 0\n",
            "2019-08-19 08:23:57,457 : INFO : EPOCH 3 - PROGRESS: at 60.97% examples, 334075 words/s, in_qsize 6, out_qsize 1\n",
            "2019-08-19 08:23:58,490 : INFO : EPOCH 3 - PROGRESS: at 63.67% examples, 334150 words/s, in_qsize 7, out_qsize 0\n",
            "2019-08-19 08:23:59,505 : INFO : EPOCH 3 - PROGRESS: at 66.28% examples, 334161 words/s, in_qsize 6, out_qsize 1\n",
            "2019-08-19 08:24:00,512 : INFO : EPOCH 3 - PROGRESS: at 68.93% examples, 334261 words/s, in_qsize 7, out_qsize 0\n",
            "2019-08-19 08:24:01,514 : INFO : EPOCH 3 - PROGRESS: at 71.49% examples, 334178 words/s, in_qsize 7, out_qsize 0\n",
            "2019-08-19 08:24:02,565 : INFO : EPOCH 3 - PROGRESS: at 74.23% examples, 334266 words/s, in_qsize 7, out_qsize 0\n",
            "2019-08-19 08:24:03,586 : INFO : EPOCH 3 - PROGRESS: at 76.93% examples, 334437 words/s, in_qsize 7, out_qsize 0\n",
            "2019-08-19 08:24:04,618 : INFO : EPOCH 3 - PROGRESS: at 79.63% examples, 334477 words/s, in_qsize 7, out_qsize 0\n",
            "2019-08-19 08:24:05,645 : INFO : EPOCH 3 - PROGRESS: at 82.27% examples, 334337 words/s, in_qsize 7, out_qsize 0\n",
            "2019-08-19 08:24:06,662 : INFO : EPOCH 3 - PROGRESS: at 85.00% examples, 334760 words/s, in_qsize 7, out_qsize 0\n",
            "2019-08-19 08:24:07,691 : INFO : EPOCH 3 - PROGRESS: at 87.58% examples, 334405 words/s, in_qsize 7, out_qsize 0\n",
            "2019-08-19 08:24:08,723 : INFO : EPOCH 3 - PROGRESS: at 90.24% examples, 334447 words/s, in_qsize 7, out_qsize 0\n",
            "2019-08-19 08:24:09,726 : INFO : EPOCH 3 - PROGRESS: at 92.90% examples, 334553 words/s, in_qsize 6, out_qsize 1\n",
            "2019-08-19 08:24:10,734 : INFO : EPOCH 3 - PROGRESS: at 95.59% examples, 334617 words/s, in_qsize 7, out_qsize 0\n",
            "2019-08-19 08:24:11,757 : INFO : EPOCH 3 - PROGRESS: at 98.23% examples, 334742 words/s, in_qsize 7, out_qsize 0\n",
            "2019-08-19 08:24:12,374 : INFO : worker thread finished; awaiting finish of 3 more threads\n",
            "2019-08-19 08:24:12,385 : INFO : worker thread finished; awaiting finish of 2 more threads\n",
            "2019-08-19 08:24:12,400 : INFO : worker thread finished; awaiting finish of 1 more threads\n",
            "2019-08-19 08:24:12,405 : INFO : worker thread finished; awaiting finish of 0 more threads\n",
            "2019-08-19 08:24:12,406 : INFO : EPOCH - 3 : training on 17798269 raw words (12871980 effective words) took 38.4s, 335088 effective words/s\n",
            "2019-08-19 08:24:13,451 : INFO : EPOCH 4 - PROGRESS: at 2.56% examples, 321982 words/s, in_qsize 7, out_qsize 0\n",
            "2019-08-19 08:24:14,480 : INFO : EPOCH 4 - PROGRESS: at 5.24% examples, 329216 words/s, in_qsize 6, out_qsize 1\n",
            "2019-08-19 08:24:15,484 : INFO : EPOCH 4 - PROGRESS: at 7.94% examples, 331962 words/s, in_qsize 6, out_qsize 1\n",
            "2019-08-19 08:24:16,495 : INFO : EPOCH 4 - PROGRESS: at 10.59% examples, 332920 words/s, in_qsize 7, out_qsize 0\n",
            "2019-08-19 08:24:17,505 : INFO : EPOCH 4 - PROGRESS: at 13.25% examples, 333598 words/s, in_qsize 6, out_qsize 1\n",
            "2019-08-19 08:24:18,544 : INFO : EPOCH 4 - PROGRESS: at 16.01% examples, 335563 words/s, in_qsize 7, out_qsize 1\n",
            "2019-08-19 08:24:19,548 : INFO : EPOCH 4 - PROGRESS: at 18.58% examples, 333197 words/s, in_qsize 6, out_qsize 1\n",
            "2019-08-19 08:24:20,584 : INFO : EPOCH 4 - PROGRESS: at 21.35% examples, 334273 words/s, in_qsize 7, out_qsize 0\n",
            "2019-08-19 08:24:21,617 : INFO : EPOCH 4 - PROGRESS: at 23.98% examples, 333692 words/s, in_qsize 7, out_qsize 0\n",
            "2019-08-19 08:24:22,651 : INFO : EPOCH 4 - PROGRESS: at 26.69% examples, 333767 words/s, in_qsize 7, out_qsize 0\n",
            "2019-08-19 08:24:23,666 : INFO : EPOCH 4 - PROGRESS: at 29.26% examples, 333170 words/s, in_qsize 7, out_qsize 0\n",
            "2019-08-19 08:24:24,676 : INFO : EPOCH 4 - PROGRESS: at 32.02% examples, 333976 words/s, in_qsize 7, out_qsize 0\n",
            "2019-08-19 08:24:25,702 : INFO : EPOCH 4 - PROGRESS: at 34.65% examples, 333677 words/s, in_qsize 7, out_qsize 0\n",
            "2019-08-19 08:24:26,725 : INFO : EPOCH 4 - PROGRESS: at 37.28% examples, 333565 words/s, in_qsize 7, out_qsize 0\n",
            "2019-08-19 08:24:27,735 : INFO : EPOCH 4 - PROGRESS: at 39.90% examples, 333734 words/s, in_qsize 7, out_qsize 0\n",
            "2019-08-19 08:24:28,744 : INFO : EPOCH 4 - PROGRESS: at 42.47% examples, 333464 words/s, in_qsize 7, out_qsize 0\n",
            "2019-08-19 08:24:29,766 : INFO : EPOCH 4 - PROGRESS: at 45.12% examples, 333386 words/s, in_qsize 7, out_qsize 0\n",
            "2019-08-19 08:24:30,784 : INFO : EPOCH 4 - PROGRESS: at 47.79% examples, 333734 words/s, in_qsize 8, out_qsize 0\n",
            "2019-08-19 08:24:31,832 : INFO : EPOCH 4 - PROGRESS: at 50.45% examples, 333599 words/s, in_qsize 8, out_qsize 1\n",
            "2019-08-19 08:24:32,844 : INFO : EPOCH 4 - PROGRESS: at 53.16% examples, 334039 words/s, in_qsize 7, out_qsize 0\n",
            "2019-08-19 08:24:33,889 : INFO : EPOCH 4 - PROGRESS: at 55.83% examples, 333938 words/s, in_qsize 7, out_qsize 0\n",
            "2019-08-19 08:24:34,904 : INFO : EPOCH 4 - PROGRESS: at 58.46% examples, 334252 words/s, in_qsize 7, out_qsize 0\n",
            "2019-08-19 08:24:35,919 : INFO : EPOCH 4 - PROGRESS: at 61.13% examples, 334590 words/s, in_qsize 7, out_qsize 0\n",
            "2019-08-19 08:24:36,946 : INFO : EPOCH 4 - PROGRESS: at 63.83% examples, 334718 words/s, in_qsize 7, out_qsize 0\n",
            "2019-08-19 08:24:37,976 : INFO : EPOCH 4 - PROGRESS: at 66.45% examples, 334501 words/s, in_qsize 7, out_qsize 0\n",
            "2019-08-19 08:24:38,985 : INFO : EPOCH 4 - PROGRESS: at 69.14% examples, 334825 words/s, in_qsize 7, out_qsize 0\n",
            "2019-08-19 08:24:40,005 : INFO : EPOCH 4 - PROGRESS: at 71.76% examples, 334748 words/s, in_qsize 7, out_qsize 0\n",
            "2019-08-19 08:24:41,023 : INFO : EPOCH 4 - PROGRESS: at 74.40% examples, 334707 words/s, in_qsize 7, out_qsize 0\n",
            "2019-08-19 08:24:42,030 : INFO : EPOCH 4 - PROGRESS: at 77.04% examples, 334768 words/s, in_qsize 7, out_qsize 0\n",
            "2019-08-19 08:24:43,036 : INFO : EPOCH 4 - PROGRESS: at 79.75% examples, 335076 words/s, in_qsize 7, out_qsize 0\n",
            "2019-08-19 08:24:44,080 : INFO : EPOCH 4 - PROGRESS: at 82.38% examples, 334738 words/s, in_qsize 8, out_qsize 1\n",
            "2019-08-19 08:24:45,099 : INFO : EPOCH 4 - PROGRESS: at 85.11% examples, 335122 words/s, in_qsize 7, out_qsize 0\n",
            "2019-08-19 08:24:46,105 : INFO : EPOCH 4 - PROGRESS: at 87.69% examples, 334976 words/s, in_qsize 7, out_qsize 0\n",
            "2019-08-19 08:24:47,154 : INFO : EPOCH 4 - PROGRESS: at 90.37% examples, 334839 words/s, in_qsize 7, out_qsize 0\n",
            "2019-08-19 08:24:48,154 : INFO : EPOCH 4 - PROGRESS: at 93.12% examples, 335360 words/s, in_qsize 7, out_qsize 0\n",
            "2019-08-19 08:24:49,172 : INFO : EPOCH 4 - PROGRESS: at 95.71% examples, 334923 words/s, in_qsize 7, out_qsize 0\n",
            "2019-08-19 08:24:50,185 : INFO : EPOCH 4 - PROGRESS: at 98.29% examples, 334935 words/s, in_qsize 7, out_qsize 0\n",
            "2019-08-19 08:24:50,765 : INFO : worker thread finished; awaiting finish of 3 more threads\n",
            "2019-08-19 08:24:50,777 : INFO : worker thread finished; awaiting finish of 2 more threads\n",
            "2019-08-19 08:24:50,792 : INFO : worker thread finished; awaiting finish of 1 more threads\n",
            "2019-08-19 08:24:50,809 : INFO : worker thread finished; awaiting finish of 0 more threads\n",
            "2019-08-19 08:24:50,810 : INFO : EPOCH - 4 : training on 17798269 raw words (12872283 effective words) took 38.4s, 335284 effective words/s\n",
            "2019-08-19 08:24:51,838 : INFO : EPOCH 5 - PROGRESS: at 2.45% examples, 313606 words/s, in_qsize 7, out_qsize 1\n",
            "2019-08-19 08:24:52,855 : INFO : EPOCH 5 - PROGRESS: at 5.14% examples, 326760 words/s, in_qsize 7, out_qsize 0\n",
            "2019-08-19 08:24:53,877 : INFO : EPOCH 5 - PROGRESS: at 7.83% examples, 328402 words/s, in_qsize 6, out_qsize 1\n",
            "2019-08-19 08:24:54,896 : INFO : EPOCH 5 - PROGRESS: at 10.53% examples, 331370 words/s, in_qsize 6, out_qsize 1\n",
            "2019-08-19 08:24:55,902 : INFO : EPOCH 5 - PROGRESS: at 13.25% examples, 334079 words/s, in_qsize 8, out_qsize 0\n",
            "2019-08-19 08:24:56,921 : INFO : EPOCH 5 - PROGRESS: at 15.84% examples, 332826 words/s, in_qsize 7, out_qsize 0\n",
            "2019-08-19 08:24:57,945 : INFO : EPOCH 5 - PROGRESS: at 18.52% examples, 332502 words/s, in_qsize 7, out_qsize 0\n",
            "2019-08-19 08:24:58,969 : INFO : EPOCH 5 - PROGRESS: at 21.24% examples, 333273 words/s, in_qsize 7, out_qsize 0\n",
            "2019-08-19 08:25:00,015 : INFO : EPOCH 5 - PROGRESS: at 23.93% examples, 333109 words/s, in_qsize 7, out_qsize 0\n",
            "2019-08-19 08:25:01,021 : INFO : EPOCH 5 - PROGRESS: at 26.57% examples, 333509 words/s, in_qsize 7, out_qsize 0\n",
            "2019-08-19 08:25:02,032 : INFO : EPOCH 5 - PROGRESS: at 29.25% examples, 334312 words/s, in_qsize 6, out_qsize 1\n",
            "2019-08-19 08:25:03,044 : INFO : EPOCH 5 - PROGRESS: at 31.91% examples, 333787 words/s, in_qsize 5, out_qsize 2\n",
            "2019-08-19 08:25:04,053 : INFO : EPOCH 5 - PROGRESS: at 34.60% examples, 334449 words/s, in_qsize 6, out_qsize 1\n",
            "2019-08-19 08:25:05,083 : INFO : EPOCH 5 - PROGRESS: at 37.28% examples, 334587 words/s, in_qsize 7, out_qsize 0\n",
            "2019-08-19 08:25:06,116 : INFO : EPOCH 5 - PROGRESS: at 39.96% examples, 334659 words/s, in_qsize 7, out_qsize 0\n",
            "2019-08-19 08:25:07,147 : INFO : EPOCH 5 - PROGRESS: at 42.63% examples, 334753 words/s, in_qsize 7, out_qsize 0\n",
            "2019-08-19 08:25:08,172 : INFO : EPOCH 5 - PROGRESS: at 45.29% examples, 334545 words/s, in_qsize 7, out_qsize 0\n",
            "2019-08-19 08:25:09,191 : INFO : EPOCH 5 - PROGRESS: at 47.95% examples, 334831 words/s, in_qsize 7, out_qsize 0\n",
            "2019-08-19 08:25:10,208 : INFO : EPOCH 5 - PROGRESS: at 50.51% examples, 334395 words/s, in_qsize 6, out_qsize 1\n",
            "2019-08-19 08:25:11,255 : INFO : EPOCH 5 - PROGRESS: at 53.27% examples, 334568 words/s, in_qsize 7, out_qsize 0\n",
            "2019-08-19 08:25:12,264 : INFO : EPOCH 5 - PROGRESS: at 55.89% examples, 334653 words/s, in_qsize 7, out_qsize 0\n",
            "2019-08-19 08:25:13,272 : INFO : EPOCH 5 - PROGRESS: at 58.46% examples, 334717 words/s, in_qsize 7, out_qsize 0\n",
            "2019-08-19 08:25:14,286 : INFO : EPOCH 5 - PROGRESS: at 61.13% examples, 335020 words/s, in_qsize 7, out_qsize 0\n",
            "2019-08-19 08:25:15,295 : INFO : EPOCH 5 - PROGRESS: at 63.78% examples, 335084 words/s, in_qsize 7, out_qsize 0\n",
            "2019-08-19 08:25:16,316 : INFO : EPOCH 5 - PROGRESS: at 66.28% examples, 334416 words/s, in_qsize 7, out_qsize 0\n",
            "2019-08-19 08:25:17,331 : INFO : EPOCH 5 - PROGRESS: at 68.93% examples, 334400 words/s, in_qsize 6, out_qsize 1\n",
            "2019-08-19 08:25:18,339 : INFO : EPOCH 5 - PROGRESS: at 71.54% examples, 334496 words/s, in_qsize 7, out_qsize 0\n",
            "2019-08-19 08:25:19,340 : INFO : EPOCH 5 - PROGRESS: at 74.17% examples, 334663 words/s, in_qsize 7, out_qsize 0\n",
            "2019-08-19 08:25:20,348 : INFO : EPOCH 5 - PROGRESS: at 76.82% examples, 334725 words/s, in_qsize 7, out_qsize 0\n",
            "2019-08-19 08:25:21,377 : INFO : EPOCH 5 - PROGRESS: at 79.40% examples, 334330 words/s, in_qsize 7, out_qsize 0\n",
            "2019-08-19 08:25:22,390 : INFO : EPOCH 5 - PROGRESS: at 82.04% examples, 334338 words/s, in_qsize 7, out_qsize 0\n",
            "2019-08-19 08:25:23,423 : INFO : EPOCH 5 - PROGRESS: at 84.62% examples, 334082 words/s, in_qsize 8, out_qsize 2\n",
            "2019-08-19 08:25:24,410 : INFO : EPOCH 5 - PROGRESS: at 87.26% examples, 334243 words/s, in_qsize 7, out_qsize 0\n",
            "2019-08-19 08:25:25,439 : INFO : EPOCH 5 - PROGRESS: at 89.85% examples, 334109 words/s, in_qsize 7, out_qsize 0\n",
            "2019-08-19 08:25:26,458 : INFO : EPOCH 5 - PROGRESS: at 92.51% examples, 334092 words/s, in_qsize 7, out_qsize 0\n",
            "2019-08-19 08:25:27,489 : INFO : EPOCH 5 - PROGRESS: at 95.24% examples, 334153 words/s, in_qsize 7, out_qsize 0\n",
            "2019-08-19 08:25:28,494 : INFO : EPOCH 5 - PROGRESS: at 97.84% examples, 334242 words/s, in_qsize 7, out_qsize 0\n",
            "2019-08-19 08:25:29,276 : INFO : worker thread finished; awaiting finish of 3 more threads\n",
            "2019-08-19 08:25:29,294 : INFO : worker thread finished; awaiting finish of 2 more threads\n",
            "2019-08-19 08:25:29,306 : INFO : worker thread finished; awaiting finish of 1 more threads\n",
            "2019-08-19 08:25:29,319 : INFO : worker thread finished; awaiting finish of 0 more threads\n",
            "2019-08-19 08:25:29,321 : INFO : EPOCH - 5 : training on 17798269 raw words (12872851 effective words) took 38.5s, 334371 effective words/s\n",
            "2019-08-19 08:25:29,323 : INFO : training on a 88991345 raw words (64358901 effective words) took 192.1s, 334992 effective words/s\n"
          ],
          "name": "stderr"
        },
        {
          "output_type": "execute_result",
          "data": {
            "text/plain": [
              "<gensim.models.word2vec.Word2Vec at 0x7fda3f23c5f8>"
            ]
          },
          "metadata": {
            "tags": []
          },
          "execution_count": 15
        }
      ]
    },
    {
      "cell_type": "code",
      "metadata": {
        "id": "paLXzv9p48Rx",
        "outputId": "5f3b55f0-0bbc-4536-f92f-d323ce8731ae",
        "colab": {
          "base_uri": "https://localhost:8080/",
          "height": 102
        }
      },
      "source": [
        "# 학습이 완료 되면 필요없는 메모리를 unload 시킨다.\n",
        "model.init_sims(replace=True)\n",
        "\n",
        "model_name = '300features_40minwords_10text'\n",
        "# model_name = '300features_50minwords_20text'\n",
        "model.save(model_name)"
      ],
      "execution_count": null,
      "outputs": [
        {
          "output_type": "stream",
          "text": [
            "2019-08-19 08:25:29,338 : INFO : precomputing L2-norms of word weight vectors\n",
            "2019-08-19 08:25:29,459 : INFO : saving Word2Vec object under 300features_40minwords_10text, separately None\n",
            "2019-08-19 08:25:29,460 : INFO : not storing attribute vectors_norm\n",
            "2019-08-19 08:25:29,462 : INFO : not storing attribute cum_table\n",
            "2019-08-19 08:25:29,843 : INFO : saved 300features_40minwords_10text\n"
          ],
          "name": "stderr"
        }
      ]
    },
    {
      "cell_type": "markdown",
      "metadata": {
        "id": "wNdrmuYq48Rz"
      },
      "source": [
        "## 모델 결과 탐색 \n",
        "Exploring the Model Results"
      ]
    },
    {
      "cell_type": "code",
      "metadata": {
        "id": "W49gDdw248R0",
        "outputId": "f77bb6e9-f163-47c5-be16-016d2182ca4e",
        "colab": {
          "base_uri": "https://localhost:8080/",
          "height": 34
        }
      },
      "source": [
        "# 유사도가 없는 단어 추출\n",
        "model.wv.doesnt_match('man woman child kitchen'.split())"
      ],
      "execution_count": null,
      "outputs": [
        {
          "output_type": "execute_result",
          "data": {
            "text/plain": [
              "'kitchen'"
            ]
          },
          "metadata": {
            "tags": []
          },
          "execution_count": 17
        }
      ]
    },
    {
      "cell_type": "code",
      "metadata": {
        "id": "BUT4hytK48R2",
        "outputId": "0eda6798-09f0-4c94-cd81-f25b33ae9106",
        "colab": {
          "base_uri": "https://localhost:8080/",
          "height": 51
        }
      },
      "source": [
        "model.wv.doesnt_match(\"france england germany berlin\".split())"
      ],
      "execution_count": null,
      "outputs": [
        {
          "output_type": "stream",
          "text": [
            "2019-08-19 08:25:29,862 : WARNING : vectors for words {'germany', 'france'} are not present in the model, ignoring these words\n"
          ],
          "name": "stderr"
        },
        {
          "output_type": "execute_result",
          "data": {
            "text/plain": [
              "'berlin'"
            ]
          },
          "metadata": {
            "tags": []
          },
          "execution_count": 18
        }
      ]
    },
    {
      "cell_type": "code",
      "metadata": {
        "id": "8NGreCbG48R4",
        "outputId": "832cc2c9-89c5-439a-8885-3ed0b2eff96d",
        "colab": {
          "base_uri": "https://localhost:8080/",
          "height": 187
        }
      },
      "source": [
        "# 가장 유사한 단어를 추출\n",
        "model.wv.most_similar(\"man\")"
      ],
      "execution_count": null,
      "outputs": [
        {
          "output_type": "execute_result",
          "data": {
            "text/plain": [
              "[('woman', 0.6311110854148865),\n",
              " ('lad', 0.5120357275009155),\n",
              " ('millionair', 0.5024486780166626),\n",
              " ('ladi', 0.4962945282459259),\n",
              " ('businessman', 0.485980749130249),\n",
              " ('widow', 0.4638982117176056),\n",
              " ('men', 0.4622892439365387),\n",
              " ('farmer', 0.45389100909233093),\n",
              " ('loner', 0.44383668899536133),\n",
              " ('gentleman', 0.4425828456878662)]"
            ]
          },
          "metadata": {
            "tags": []
          },
          "execution_count": 19
        }
      ]
    },
    {
      "cell_type": "code",
      "metadata": {
        "id": "DuuXRL0D48R6",
        "outputId": "6cb13e85-c81e-4504-9c82-df27c61a4913",
        "colab": {
          "base_uri": "https://localhost:8080/",
          "height": 187
        }
      },
      "source": [
        "model.wv.most_similar(\"queen\")"
      ],
      "execution_count": null,
      "outputs": [
        {
          "output_type": "execute_result",
          "data": {
            "text/plain": [
              "[('princess', 0.6463119983673096),\n",
              " ('regina', 0.5703334808349609),\n",
              " ('latifah', 0.5637879371643066),\n",
              " ('goddess', 0.557266354560852),\n",
              " ('maid', 0.5533121228218079),\n",
              " ('stepmoth', 0.5529181957244873),\n",
              " ('victoria', 0.5463545322418213),\n",
              " ('seductress', 0.5319976806640625),\n",
              " ('mistress', 0.5315878987312317),\n",
              " ('kristel', 0.5260564088821411)]"
            ]
          },
          "metadata": {
            "tags": []
          },
          "execution_count": 20
        }
      ]
    },
    {
      "cell_type": "code",
      "metadata": {
        "id": "xW25uGwZ48R8"
      },
      "source": [
        "# model.wv.most_similar(\"awful\")"
      ],
      "execution_count": null,
      "outputs": []
    },
    {
      "cell_type": "code",
      "metadata": {
        "scrolled": true,
        "id": "AXFlHXyi48R-",
        "outputId": "f7819c4d-eba3-4f7a-9c11-65cae8d70418",
        "colab": {
          "base_uri": "https://localhost:8080/",
          "height": 187
        }
      },
      "source": [
        "model.wv.most_similar(\"film\")"
      ],
      "execution_count": null,
      "outputs": [
        {
          "output_type": "execute_result",
          "data": {
            "text/plain": [
              "[('movi', 0.8486303687095642),\n",
              " ('flick', 0.6014010906219482),\n",
              " ('pictur', 0.5657157897949219),\n",
              " ('documentari', 0.5614705085754395),\n",
              " ('cinema', 0.5157433152198792),\n",
              " ('sequel', 0.49486827850341797),\n",
              " ('thriller', 0.48745599389076233),\n",
              " ('genr', 0.4845542907714844),\n",
              " ('it', 0.482732892036438),\n",
              " ('masterpiec', 0.4813239574432373)]"
            ]
          },
          "metadata": {
            "tags": []
          },
          "execution_count": 22
        }
      ]
    },
    {
      "cell_type": "code",
      "metadata": {
        "id": "LRrOJbDa48SB",
        "outputId": "f1b54cf8-f92a-48f7-e86f-4d87c83f526b",
        "colab": {
          "base_uri": "https://localhost:8080/",
          "height": 187
        }
      },
      "source": [
        "# model.wv.most_similar(\"happy\")\n",
        "model.wv.most_similar(\"happi\") # stemming 처리 시 "
      ],
      "execution_count": null,
      "outputs": [
        {
          "output_type": "execute_result",
          "data": {
            "text/plain": [
              "[('unhappi', 0.4481697082519531),\n",
              " ('sad', 0.4153859615325928),\n",
              " ('satisfi', 0.4117695689201355),\n",
              " ('bitter', 0.3995321989059448),\n",
              " ('happier', 0.3993583917617798),\n",
              " ('glad', 0.37883472442626953),\n",
              " ('afraid', 0.3787952661514282),\n",
              " ('optimist', 0.3661050498485565),\n",
              " ('sappi', 0.3627229928970337),\n",
              " ('lucki', 0.36196812987327576)]"
            ]
          },
          "metadata": {
            "tags": []
          },
          "execution_count": 23
        }
      ]
    },
    {
      "cell_type": "markdown",
      "metadata": {
        "id": "i6ZkV02z48SD"
      },
      "source": [
        "### Word2Vec으로 벡터화 한 단어를 t-SNE 를 통해 시각화"
      ]
    },
    {
      "cell_type": "code",
      "metadata": {
        "id": "c16Np1SY48SE",
        "outputId": "fb63f647-c44e-4bf9-a0a9-94e42b366b20",
        "colab": {
          "base_uri": "https://localhost:8080/",
          "height": 187
        }
      },
      "source": [
        "# 참고 https://stackoverflow.com/questions/43776572/visualise-word2vec-generated-from-gensim\n",
        "from sklearn.manifold import TSNE\n",
        "import matplotlib as mpl\n",
        "import matplotlib.pyplot as plt\n",
        "import gensim \n",
        "import gensim.models as g\n",
        "\n",
        "# 그래프에서 마이너스 폰트 깨지는 문제에 대한 대처\n",
        "mpl.rcParams['axes.unicode_minus'] = False\n",
        "\n",
        "model_name = '300features_40minwords_10text'\n",
        "model = g.Doc2Vec.load(model_name)\n",
        "\n",
        "vocab = list(model.wv.vocab)\n",
        "X = model[vocab]\n",
        "\n",
        "print(len(X))\n",
        "print(X[0][:10])\n",
        "tsne = TSNE(n_components=2)\n",
        "\n",
        "# 100개의 단어에 대해서만 시각화\n",
        "X_tsne = tsne.fit_transform(X[:100,:])\n",
        "# X_tsne = tsne.fit_transform(X)"
      ],
      "execution_count": null,
      "outputs": [
        {
          "output_type": "stream",
          "text": [
            "2019-08-19 08:25:30,131 : INFO : loading Doc2Vec object from 300features_40minwords_10text\n",
            "2019-08-19 08:25:30,379 : INFO : loading wv recursively from 300features_40minwords_10text.wv.* with mmap=None\n",
            "2019-08-19 08:25:30,380 : INFO : setting ignored attribute vectors_norm to None\n",
            "2019-08-19 08:25:30,387 : INFO : loading vocabulary recursively from 300features_40minwords_10text.vocabulary.* with mmap=None\n",
            "2019-08-19 08:25:30,390 : INFO : loading trainables recursively from 300features_40minwords_10text.trainables.* with mmap=None\n",
            "2019-08-19 08:25:30,395 : INFO : setting ignored attribute cum_table to None\n",
            "2019-08-19 08:25:30,398 : INFO : loaded 300features_40minwords_10text\n"
          ],
          "name": "stderr"
        },
        {
          "output_type": "stream",
          "text": [
            "11986\n",
            "[-0.00953061  0.02250015  0.08172901 -0.0400457   0.03973141  0.07454617\n",
            "  0.06892687 -0.07983076  0.03519644  0.00520786]\n"
          ],
          "name": "stdout"
        }
      ]
    },
    {
      "cell_type": "code",
      "metadata": {
        "id": "nIDhfkpc48SG",
        "outputId": "7dd5502f-333b-4c31-88e7-31d8f3b88914",
        "colab": {
          "base_uri": "https://localhost:8080/",
          "height": 34
        }
      },
      "source": [
        "df = pd.DataFrame(X_tsne, index=vocab[:100], columns=['x', 'y'])\n",
        "df.shape"
      ],
      "execution_count": null,
      "outputs": [
        {
          "output_type": "execute_result",
          "data": {
            "text/plain": [
              "(100, 2)"
            ]
          },
          "metadata": {
            "tags": []
          },
          "execution_count": 25
        }
      ]
    },
    {
      "cell_type": "code",
      "metadata": {
        "id": "gJGkz6Km48SI",
        "outputId": "c9ef148e-fb01-42cf-c849-b0e333fc6395",
        "colab": {
          "base_uri": "https://localhost:8080/",
          "height": 359
        }
      },
      "source": [
        "df.head(10)"
      ],
      "execution_count": null,
      "outputs": [
        {
          "output_type": "execute_result",
          "data": {
            "text/html": [
              "<div>\n",
              "<style scoped>\n",
              "    .dataframe tbody tr th:only-of-type {\n",
              "        vertical-align: middle;\n",
              "    }\n",
              "\n",
              "    .dataframe tbody tr th {\n",
              "        vertical-align: top;\n",
              "    }\n",
              "\n",
              "    .dataframe thead th {\n",
              "        text-align: right;\n",
              "    }\n",
              "</style>\n",
              "<table border=\"1\" class=\"dataframe\">\n",
              "  <thead>\n",
              "    <tr style=\"text-align: right;\">\n",
              "      <th></th>\n",
              "      <th>x</th>\n",
              "      <th>y</th>\n",
              "    </tr>\n",
              "  </thead>\n",
              "  <tbody>\n",
              "    <tr>\n",
              "      <th>with</th>\n",
              "      <td>-14.483068</td>\n",
              "      <td>-10.905599</td>\n",
              "    </tr>\n",
              "    <tr>\n",
              "      <th>all</th>\n",
              "      <td>3.553935</td>\n",
              "      <td>-1.245863</td>\n",
              "    </tr>\n",
              "    <tr>\n",
              "      <th>this</th>\n",
              "      <td>-1.416789</td>\n",
              "      <td>3.357978</td>\n",
              "    </tr>\n",
              "    <tr>\n",
              "      <th>stuff</th>\n",
              "      <td>-3.219814</td>\n",
              "      <td>8.929828</td>\n",
              "    </tr>\n",
              "    <tr>\n",
              "      <th>go</th>\n",
              "      <td>-10.770894</td>\n",
              "      <td>5.383764</td>\n",
              "    </tr>\n",
              "    <tr>\n",
              "      <th>down</th>\n",
              "      <td>-16.840612</td>\n",
              "      <td>-7.132626</td>\n",
              "    </tr>\n",
              "    <tr>\n",
              "      <th>at</th>\n",
              "      <td>-12.590138</td>\n",
              "      <td>-6.302315</td>\n",
              "    </tr>\n",
              "    <tr>\n",
              "      <th>the</th>\n",
              "      <td>3.999099</td>\n",
              "      <td>-4.296609</td>\n",
              "    </tr>\n",
              "    <tr>\n",
              "      <th>moment</th>\n",
              "      <td>-0.103458</td>\n",
              "      <td>9.812531</td>\n",
              "    </tr>\n",
              "    <tr>\n",
              "      <th>mj</th>\n",
              "      <td>-15.991969</td>\n",
              "      <td>15.292706</td>\n",
              "    </tr>\n",
              "  </tbody>\n",
              "</table>\n",
              "</div>"
            ],
            "text/plain": [
              "                x          y\n",
              "with   -14.483068 -10.905599\n",
              "all      3.553935  -1.245863\n",
              "this    -1.416789   3.357978\n",
              "stuff   -3.219814   8.929828\n",
              "go     -10.770894   5.383764\n",
              "down   -16.840612  -7.132626\n",
              "at     -12.590138  -6.302315\n",
              "the      3.999099  -4.296609\n",
              "moment  -0.103458   9.812531\n",
              "mj     -15.991969  15.292706"
            ]
          },
          "metadata": {
            "tags": []
          },
          "execution_count": 26
        }
      ]
    },
    {
      "cell_type": "code",
      "metadata": {
        "id": "ckazjIm748SL",
        "outputId": "925959f1-2d6a-4099-c33c-4ca7a3f7677b",
        "colab": {
          "base_uri": "https://localhost:8080/",
          "height": 1000
        }
      },
      "source": [
        "fig = plt.figure()\n",
        "fig.set_size_inches(40, 20)\n",
        "ax = fig.add_subplot(1, 1, 1)\n",
        "\n",
        "ax.scatter(df['x'], df['y'])\n",
        "\n",
        "for word, pos in df.iterrows():\n",
        "    ax.annotate(word, pos, fontsize=30)\n",
        "plt.show()"
      ],
      "execution_count": null,
      "outputs": [
        {
          "output_type": "display_data",
          "data": {
            "image/png": "[encoded data removed]",
            "text/plain": [
              "<Figure size 2880x1440 with 1 Axes>"
            ]
          },
          "metadata": {
            "tags": []
          }
        }
      ]
    },
    {
      "cell_type": "code",
      "metadata": {
        "id": "6N1U2OGZ48SN"
      },
      "source": [
        "import numpy as np\n",
        "\n",
        "def makeFeatureVec(words, model, num_features):\n",
        "    \"\"\"\n",
        "    주어진 문장에서 단어 벡터의 평균을 구하는 함수\n",
        "    \"\"\"\n",
        "    # 속도를 위해 0으로 채운 배열로 초기화 한다.\n",
        "    featureVec = np.zeros((num_features,),dtype=\"float32\")\n",
        "\n",
        "    nwords = 0.\n",
        "    # Index2word는 모델의 사전에 있는 단어명을 담은 리스트이다.\n",
        "    # 속도를 위해 set 형태로 초기화 한다.\n",
        "    index2word_set = set(model.wv.index2word)\n",
        "    # 루프를 돌며 모델 사전에 포함이 되는 단어라면 피처에 추가한다.\n",
        "    for word in words:\n",
        "        if word in index2word_set:\n",
        "            nwords = nwords + 1.\n",
        "            featureVec = np.add(featureVec,model[word])\n",
        "    # 결과를 단어수로 나누어 평균을 구한다.\n",
        "    featureVec = np.divide(featureVec,nwords)\n",
        "    return featureVec"
      ],
      "execution_count": null,
      "outputs": []
    },
    {
      "cell_type": "code",
      "metadata": {
        "id": "DxLuRTzI48SP"
      },
      "source": [
        "def getAvgFeatureVecs(reviews, model, num_features):\n",
        "    # 리뷰 단어 목록의 각각에 대한 평균 feature 벡터를 계산하고 \n",
        "    # 2D numpy 배열을 반환한다.\n",
        "    \n",
        "    # 카운터를 초기화 한다.\n",
        "    counter = 0.\n",
        "    # 속도를 위해 2D 넘파이 배열을 미리 할당한다.\n",
        "    reviewFeatureVecs = np.zeros(\n",
        "        (len(reviews),num_features),dtype=\"float32\")\n",
        "    \n",
        "    for review in reviews:\n",
        "       # 매 1000개 리뷰마다 상태를 출력\n",
        "        if counter%1000. == 0.:\n",
        "            print(\"Review %d of %d\" % (counter, len(reviews)))\n",
        "       # 평균 피처 벡터를 만들기 위해 위에서 정의한 함수를 호출한다.\n",
        "        reviewFeatureVecs[int(counter)] = makeFeatureVec(review, model, \\\n",
        "           num_features)\n",
        "       # 카운터를 증가시킨다.\n",
        "        counter = counter + 1.\n",
        "    return reviewFeatureVecs"
      ],
      "execution_count": null,
      "outputs": []
    },
    {
      "cell_type": "code",
      "metadata": {
        "id": "CJT3nbrj48SR"
      },
      "source": [
        "# 멀티스레드로 4개의 워커를 사용해 처리한다.\n",
        "def getCleanReviews(reviews):\n",
        "    clean_reviews = []\n",
        "    clean_reviews = KaggleWord2VecUtility.apply_by_multiprocessing(\\\n",
        "        reviews[\"review\"], KaggleWord2VecUtility.review_to_wordlist,\\\n",
        "        workers=4)\n",
        "    return clean_reviews"
      ],
      "execution_count": null,
      "outputs": []
    },
    {
      "cell_type": "code",
      "metadata": {
        "id": "BdGz6D6h48SS",
        "outputId": "e5fa151b-dbb3-4c69-af7d-c54d82f0f042",
        "colab": {
          "base_uri": "https://localhost:8080/",
          "height": 476
        }
      },
      "source": [
        "%time trainDataVecs = getAvgFeatureVecs(\\\n",
        "    getCleanReviews(train), model, num_features ) "
      ],
      "execution_count": null,
      "outputs": [
        {
          "output_type": "stream",
          "text": [
            "Review 0 of 25000\n",
            "Review 1000 of 25000\n",
            "Review 2000 of 25000\n",
            "Review 3000 of 25000\n",
            "Review 4000 of 25000\n",
            "Review 5000 of 25000\n",
            "Review 6000 of 25000\n",
            "Review 7000 of 25000\n",
            "Review 8000 of 25000\n",
            "Review 9000 of 25000\n",
            "Review 10000 of 25000\n",
            "Review 11000 of 25000\n",
            "Review 12000 of 25000\n",
            "Review 13000 of 25000\n",
            "Review 14000 of 25000\n",
            "Review 15000 of 25000\n",
            "Review 16000 of 25000\n",
            "Review 17000 of 25000\n",
            "Review 18000 of 25000\n",
            "Review 19000 of 25000\n",
            "Review 20000 of 25000\n",
            "Review 21000 of 25000\n",
            "Review 22000 of 25000\n",
            "Review 23000 of 25000\n",
            "Review 24000 of 25000\n",
            "CPU times: user 1min 5s, sys: 1.51 s, total: 1min 6s\n",
            "Wall time: 2min 13s\n"
          ],
          "name": "stdout"
        }
      ]
    },
    {
      "cell_type": "code",
      "metadata": {
        "id": "54OhIXNN48SY",
        "outputId": "507afd61-82ac-4b37-b363-b121a638ec03",
        "colab": {
          "base_uri": "https://localhost:8080/",
          "height": 476
        }
      },
      "source": [
        "%time testDataVecs = getAvgFeatureVecs(\\\n",
        "        getCleanReviews(test), model, num_features )"
      ],
      "execution_count": null,
      "outputs": [
        {
          "output_type": "stream",
          "text": [
            "Review 0 of 25000\n",
            "Review 1000 of 25000\n",
            "Review 2000 of 25000\n",
            "Review 3000 of 25000\n",
            "Review 4000 of 25000\n",
            "Review 5000 of 25000\n",
            "Review 6000 of 25000\n",
            "Review 7000 of 25000\n",
            "Review 8000 of 25000\n",
            "Review 9000 of 25000\n",
            "Review 10000 of 25000\n",
            "Review 11000 of 25000\n",
            "Review 12000 of 25000\n",
            "Review 13000 of 25000\n",
            "Review 14000 of 25000\n",
            "Review 15000 of 25000\n",
            "Review 16000 of 25000\n",
            "Review 17000 of 25000\n",
            "Review 18000 of 25000\n",
            "Review 19000 of 25000\n",
            "Review 20000 of 25000\n",
            "Review 21000 of 25000\n",
            "Review 22000 of 25000\n",
            "Review 23000 of 25000\n",
            "Review 24000 of 25000\n",
            "CPU times: user 1min 5s, sys: 1 s, total: 1min 6s\n",
            "Wall time: 2min 11s\n"
          ],
          "name": "stdout"
        }
      ]
    },
    {
      "cell_type": "code",
      "metadata": {
        "id": "2KRhQeMn48Sb"
      },
      "source": [
        "from sklearn.ensemble import RandomForestClassifier\n",
        "\n",
        "forest = RandomForestClassifier(\n",
        "    n_estimators = 100, n_jobs = -1, random_state=2018)"
      ],
      "execution_count": null,
      "outputs": []
    },
    {
      "cell_type": "code",
      "metadata": {
        "id": "_fTvDcNh48Se",
        "outputId": "15201615-2a39-4c0c-9efe-bcdb56de88e5",
        "colab": {
          "base_uri": "https://localhost:8080/",
          "height": 51
        }
      },
      "source": [
        "%time forest = forest.fit( trainDataVecs, train[\"sentiment\"] )"
      ],
      "execution_count": null,
      "outputs": [
        {
          "output_type": "stream",
          "text": [
            "CPU times: user 1min 6s, sys: 22.7 ms, total: 1min 6s\n",
            "Wall time: 33.5 s\n"
          ],
          "name": "stdout"
        }
      ]
    },
    {
      "cell_type": "code",
      "metadata": {
        "id": "FaGbcYjd48Sg",
        "outputId": "8be126c9-d68f-44b9-db59-c9b65cbf0d5a",
        "colab": {
          "base_uri": "https://localhost:8080/",
          "height": 51
        }
      },
      "source": [
        "from sklearn.model_selection import cross_val_score\n",
        "%time score = np.mean(cross_val_score(\\\n",
        "    forest, trainDataVecs, \\\n",
        "    train['sentiment'], cv=10, scoring='roc_auc'))"
      ],
      "execution_count": null,
      "outputs": [
        {
          "output_type": "stream",
          "text": [
            "CPU times: user 5.25 s, sys: 828 ms, total: 6.08 s\n",
            "Wall time: 5min 5s\n"
          ],
          "name": "stdout"
        }
      ]
    },
    {
      "cell_type": "code",
      "metadata": {
        "id": "DAprEAiC48Sj",
        "outputId": "d96d4e22-ab4c-4ca4-f278-afddd88f1d5f",
        "colab": {
          "base_uri": "https://localhost:8080/",
          "height": 34
        }
      },
      "source": [
        "score"
      ],
      "execution_count": null,
      "outputs": [
        {
          "output_type": "execute_result",
          "data": {
            "text/plain": [
              "0.9088716480000001"
            ]
          },
          "metadata": {
            "tags": []
          },
          "execution_count": 36
        }
      ]
    },
    {
      "cell_type": "code",
      "metadata": {
        "id": "vtf5B4kR48Sm"
      },
      "source": [
        "result = forest.predict( testDataVecs )"
      ],
      "execution_count": null,
      "outputs": []
    },
    {
      "cell_type": "code",
      "metadata": {
        "id": "2tRTRvkd48Sn"
      },
      "source": [
        "output = pd.DataFrame( data={\"id\":test[\"id\"], \"sentiment\":result} )\n",
        "output.to_csv('Word2Vec_AverageVectors_{0:.5f}.csv'.format(score), \n",
        "              index=False, quoting=3 )"
      ],
      "execution_count": null,
      "outputs": []
    },
    {
      "cell_type": "markdown",
      "metadata": {
        "id": "r0ssB7Om48Sq"
      },
      "source": [
        "* 300features_40minwords_10text 일 때 0.90709436799999987\n",
        "* 300features_50minwords_20text 일 때 0.86815798399999999"
      ]
    },
    {
      "cell_type": "code",
      "metadata": {
        "id": "SUZs5SHY48Sq",
        "outputId": "f0ae0adc-7aed-47f1-db3c-9355309f9525",
        "colab": {
          "base_uri": "https://localhost:8080/",
          "height": 85
        }
      },
      "source": [
        "output_sentiment = output['sentiment'].value_counts()\n",
        "print(output_sentiment[0] - output_sentiment[1])\n",
        "output_sentiment"
      ],
      "execution_count": null,
      "outputs": [
        {
          "output_type": "stream",
          "text": [
            "-126\n"
          ],
          "name": "stdout"
        },
        {
          "output_type": "execute_result",
          "data": {
            "text/plain": [
              "1    12563\n",
              "0    12437\n",
              "Name: sentiment, dtype: int64"
            ]
          },
          "metadata": {
            "tags": []
          },
          "execution_count": 40
        }
      ]
    },
    {
      "cell_type": "code",
      "metadata": {
        "id": "doGYDdp448St",
        "outputId": "0ed278ca-ecd8-4477-cdc2-56c7395c9a58",
        "colab": {
          "base_uri": "https://localhost:8080/",
          "height": 354
        }
      },
      "source": [
        "import seaborn as sns \n",
        "%matplotlib inline\n",
        "\n",
        "fig, axes = plt.subplots(ncols=2)\n",
        "fig.set_size_inches(12,5)\n",
        "sns.countplot(train['sentiment'], ax=axes[0])\n",
        "sns.countplot(output['sentiment'], ax=axes[1])"
      ],
      "execution_count": null,
      "outputs": [
        {
          "output_type": "execute_result",
          "data": {
            "text/plain": [
              "<matplotlib.axes._subplots.AxesSubplot at 0x7fda27fe4940>"
            ]
          },
          "metadata": {
            "tags": []
          },
          "execution_count": 41
        },
        {
          "output_type": "display_data",
          "data": {
            "image/png": "[encoded data removed]",
            "text/plain": [
              "<Figure size 864x360 with 2 Axes>"
            ]
          },
          "metadata": {
            "tags": []
          }
        }
      ]
    },
    {
      "cell_type": "code",
      "metadata": {
        "id": "oBVyrz_S48Sv",
        "outputId": "c3daaa0d-1ba1-4430-bb59-8703943d4e65",
        "colab": {
          "base_uri": "https://localhost:8080/",
          "height": 34
        }
      },
      "source": [
        "544/578"
      ],
      "execution_count": null,
      "outputs": [
        {
          "output_type": "execute_result",
          "data": {
            "text/plain": [
              "0.9411764705882353"
            ]
          },
          "metadata": {
            "tags": []
          },
          "execution_count": 42
        }
      ]
    },
    {
      "cell_type": "code",
      "metadata": {
        "id": "d9jRWwWT48Sx"
      },
      "source": [],
      "execution_count": null,
      "outputs": []
    }
  ]
}