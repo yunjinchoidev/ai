{
  "nbformat": 4,
  "nbformat_minor": 0,
  "metadata": {
    "colab": {
      "provenance": [],
      "authorship_tag": "ABX9TyOSfugaM00JyQm+ZzMMqgbb",
      "include_colab_link": true
    },
    "kernelspec": {
      "name": "python3",
      "display_name": "Python 3"
    },
    "language_info": {
      "name": "python"
    }
  },
  "cells": [
    {
      "cell_type": "markdown",
      "metadata": {
        "id": "view-in-github",
        "colab_type": "text"
      },
      "source": [
        "<a href=\"https://colab.research.google.com/github/yunjinchoidev/ai/blob/main/%ED%85%90%EC%84%9C%ED%94%8C%EB%A1%9C_%EC%82%AC%EC%A7%84_%EB%B6%84%EB%A5%98%EA%B8%B0_%EB%A7%8C%EB%93%A4%EA%B8%B0.ipynb\" target=\"_parent\"><img src=\"https://colab.research.google.com/assets/colab-badge.svg\" alt=\"Open In Colab\"/></a>"
      ]
    },
    {
      "cell_type": "code",
      "execution_count": 1,
      "metadata": {
        "id": "sc3BThVmtTZZ"
      },
      "outputs": [],
      "source": [
        "import tensorflow as tf"
      ]
    },
    {
      "cell_type": "code",
      "source": [
        "(x_train, y_train), (x_test, y_test) = tf.keras.datasets.mnist.load_data()"
      ],
      "metadata": {
        "colab": {
          "base_uri": "https://localhost:8080/"
        },
        "id": "JLn8QlicxRIn",
        "outputId": "64a1edee-9d7c-4833-bdfd-534cfc00cc9c"
      },
      "execution_count": 2,
      "outputs": [
        {
          "output_type": "stream",
          "name": "stdout",
          "text": [
            "Downloading data from https://storage.googleapis.com/tensorflow/tf-keras-datasets/mnist.npz\n",
            "11490434/11490434 [==============================] - 0s 0us/step\n"
          ]
        }
      ]
    },
    {
      "cell_type": "code",
      "source": [
        "x_train, x_test = x_train.astype('float32'), x_test.astype('float32')"
      ],
      "metadata": {
        "id": "T6B3ycBqxYC9"
      },
      "execution_count": 3,
      "outputs": []
    },
    {
      "cell_type": "code",
      "source": [
        "x_train, x_test = x_train.reshape([-1, 784]), x_test.reshape([-1, 784])"
      ],
      "metadata": {
        "id": "b5jprD3TxgXM"
      },
      "execution_count": 4,
      "outputs": []
    },
    {
      "cell_type": "code",
      "source": [
        "x_train, x_test = x_train / 255. , x_test/255."
      ],
      "metadata": {
        "id": "nCCGsZIYxuB7"
      },
      "execution_count": 6,
      "outputs": []
    },
    {
      "cell_type": "code",
      "source": [
        "y_train, y_test = tf.one_hot(y_train, depth=10), tf.one_hot(y_test, depth=10)"
      ],
      "metadata": {
        "id": "bT1rR7SJxzoe"
      },
      "execution_count": 7,
      "outputs": []
    },
    {
      "cell_type": "code",
      "source": [
        "train_data = tf.data.Dataset.from_tensor_slices((x_train, y_train))"
      ],
      "metadata": {
        "id": "aM29GeZ0x7dI"
      },
      "execution_count": 8,
      "outputs": []
    },
    {
      "cell_type": "code",
      "source": [
        "train_data = train_data.repeat().shuffle(60000).batch(100)"
      ],
      "metadata": {
        "id": "DYiS_qJLyA6j"
      },
      "execution_count": 9,
      "outputs": []
    },
    {
      "cell_type": "code",
      "source": [
        "train_data_iter = iter(train_data)"
      ],
      "metadata": {
        "id": "7I4jWNSGyG4P"
      },
      "execution_count": 13,
      "outputs": []
    },
    {
      "cell_type": "code",
      "source": [
        "# 모델 만들기\n",
        "\n",
        "class SoftmaxRegression(tf.keras.Model):\n",
        "  def __init__(self):\n",
        "    super(SoftmaxRegression, self).__init__()\n",
        "    self.softmax_layer = tf.keras.layers.Dense(10,\n",
        "                                               activation=None,\n",
        "                                               kernel_initializer='zeros',\n",
        "                                               bias_initializer='zeros')\n",
        "\n",
        "  def call(self, x):\n",
        "    logits = self.softmax_layer(x)\n",
        "\n",
        "    return tf.nn.softmax(logits)"
      ],
      "metadata": {
        "id": "SjbYA3ElyKBz"
      },
      "execution_count": 34,
      "outputs": []
    },
    {
      "cell_type": "code",
      "source": [
        "## 손실함수\n",
        "\n",
        "@tf.function\n",
        "def cross_entropy_loss(y_pred, y):\n",
        "  return tf.reduce_mean(-tf.reduce_sum(y*tf.math.log(y_pred), axis=[1]))"
      ],
      "metadata": {
        "id": "xNjvfHdFyeUU"
      },
      "execution_count": 36,
      "outputs": []
    },
    {
      "cell_type": "code",
      "source": [
        "# 옵티마이저\n",
        "optimizer = tf.optimizers.SGD(0.5)"
      ],
      "metadata": {
        "id": "sVriOcJOzCYu"
      },
      "execution_count": 37,
      "outputs": []
    },
    {
      "cell_type": "code",
      "source": [
        "# 훈련 함수\n",
        "@tf.function\n",
        "def train_step(model, x, y):\n",
        "  with tf.GradientTape() as tape:\n",
        "    y_pred = model(x) # 예측값\n",
        "    loss = cross_entropy_loss(y_pred, y) # 오차 계산히기\n",
        "  gradient = tape.gradient(loss, model.trainable_variables) # 그래디언트 계산하기\n",
        "  optimizer.apply_gradients(zip(gradient, model.trainable_variables)) # 옵티마이저 적용"
      ],
      "metadata": {
        "id": "jHvTclhXzIVG"
      },
      "execution_count": 38,
      "outputs": []
    },
    {
      "cell_type": "code",
      "source": [
        "# 정확도 출력 함수\n",
        "\n",
        "@tf.function\n",
        "def compute_accuracy(y_pred, y):\n",
        "  correct_prediction = tf.equal(tf.argmax(y_pred,1), tf.argmax(y,1))\n",
        "  accuracy = tf.reduce_mean(tf.cast(correct_prediction, tf.float32))\n",
        "\n",
        "  return accuracy"
      ],
      "metadata": {
        "id": "up9-xzLTzdq5"
      },
      "execution_count": 39,
      "outputs": []
    },
    {
      "cell_type": "code",
      "source": [
        "# 모델 선언 \n",
        "SoftmaxRegression_model = SoftmaxRegression()"
      ],
      "metadata": {
        "id": "BtS9Nz0b0dte"
      },
      "execution_count": 40,
      "outputs": []
    },
    {
      "cell_type": "code",
      "source": [
        "for i in range(1000):\n",
        "  batch_xs, batch_ys = next(train_data_iter)\n",
        "  train_step(SoftmaxRegression_model, batch_xs, batch_ys) # 훈련함수에 모델과 데이터를 넣어서 돌린다."
      ],
      "metadata": {
        "id": "YcAQFSlu0h_d"
      },
      "execution_count": 42,
      "outputs": []
    },
    {
      "cell_type": "code",
      "source": [
        "print(\"정확도(Accuracy): %f\" % compute_accuracy(SoftmaxRegression_model(x_test), y_test)) # 정확도 : 약 91%"
      ],
      "metadata": {
        "colab": {
          "base_uri": "https://localhost:8080/"
        },
        "id": "U1KiOYga0jiX",
        "outputId": "a082ccf8-a1a0-486c-e6f1-e09b9189650e"
      },
      "execution_count": 44,
      "outputs": [
        {
          "output_type": "stream",
          "name": "stdout",
          "text": [
            "정확도(Accuracy): 0.919900\n"
          ]
        }
      ]
    },
    {
      "cell_type": "code",
      "source": [],
      "metadata": {
        "id": "bdS3kjYE2E7s"
      },
      "execution_count": null,
      "outputs": []
    }
  ]
}