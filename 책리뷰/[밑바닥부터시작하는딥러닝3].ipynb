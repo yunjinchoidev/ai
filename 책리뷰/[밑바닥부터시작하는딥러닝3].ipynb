{
  "nbformat": 4,
  "nbformat_minor": 0,
  "metadata": {
    "colab": {
      "provenance": [],
      "authorship_tag": "ABX9TyO5psTzeO9SUvobBw2V4k92",
      "include_colab_link": true
    },
    "kernelspec": {
      "name": "python3",
      "display_name": "Python 3"
    },
    "language_info": {
      "name": "python"
    }
  },
  "cells": [
    {
      "cell_type": "markdown",
      "metadata": {
        "id": "view-in-github",
        "colab_type": "text"
      },
      "source": [
        "<a href=\"https://colab.research.google.com/github/yunjinchoidev/ai/blob/main/%EC%B1%85%EB%A6%AC%EB%B7%B0/%5B%EB%B0%91%EB%B0%94%EB%8B%A5%EB%B6%80%ED%84%B0%EC%8B%9C%EC%9E%91%ED%95%98%EB%8A%94%EB%94%A5%EB%9F%AC%EB%8B%9D3%5D.ipynb\" target=\"_parent\"><img src=\"https://colab.research.google.com/assets/colab-badge.svg\" alt=\"Open In Colab\"/></a>"
      ]
    },
    {
      "cell_type": "code",
      "execution_count": null,
      "metadata": {
        "id": "EmS4JMpBFI-g"
      },
      "outputs": [],
      "source": []
    },
    {
      "cell_type": "code",
      "source": [
        "import numpy as np\n",
        "\n",
        "class Variable:\n",
        "  def __init__(self, data):\n",
        "    self.data = data\n",
        "\n",
        "data = np.array(1.0)\n",
        "x = Variable(data)\n",
        "print(x.data)"
      ],
      "metadata": {
        "colab": {
          "base_uri": "https://localhost:8080/"
        },
        "id": "nzvARv_TFOgH",
        "outputId": "b9e5f7f4-2169-4a74-dd90-ced001a14e7e"
      },
      "execution_count": null,
      "outputs": [
        {
          "output_type": "stream",
          "name": "stdout",
          "text": [
            "1.0\n"
          ]
        }
      ]
    },
    {
      "cell_type": "code",
      "source": [
        "data.ndim"
      ],
      "metadata": {
        "colab": {
          "base_uri": "https://localhost:8080/"
        },
        "id": "SwAs7g7bFWO3",
        "outputId": "73545174-8963-4a14-b9f1-68e120c7bade"
      },
      "execution_count": null,
      "outputs": [
        {
          "output_type": "execute_result",
          "data": {
            "text/plain": [
              "0"
            ]
          },
          "metadata": {},
          "execution_count": 11
        }
      ]
    },
    {
      "cell_type": "code",
      "source": [],
      "metadata": {
        "id": "hlsVnXTGFvJv"
      },
      "execution_count": null,
      "outputs": []
    },
    {
      "cell_type": "code",
      "source": [
        "x = Variable(np.array(10))\n",
        "f = Function()\n",
        "y = f(x)\n",
        "print(type(y))\n",
        "print(y.data)"
      ],
      "metadata": {
        "colab": {
          "base_uri": "https://localhost:8080/"
        },
        "id": "rEworsMfGAmE",
        "outputId": "a36e5b01-4d52-4651-91b6-058217b8d580"
      },
      "execution_count": null,
      "outputs": [
        {
          "output_type": "stream",
          "name": "stdout",
          "text": [
            "<class '__main__.Variable'>\n",
            "100\n"
          ]
        }
      ]
    },
    {
      "cell_type": "code",
      "source": [
        "class Function:\n",
        "    def __call__(self, input):\n",
        "        x = input.data\n",
        "        y = self.forward(x)\n",
        "        output = Variable(y)\n",
        "        return output\n",
        "\n",
        "    def forward(self, x):\n",
        "        raise NotImplementedError()\n",
        "\n",
        "\n",
        "class Square(Function):\n",
        "    def forward(self, x):\n",
        "        return x ** 2\n",
        "\n",
        "\n",
        "class Exp(Function):\n",
        "    def forward(self, x):\n",
        "        return np.exp(x)\n"
      ],
      "metadata": {
        "id": "Z6B2ntecGJtv"
      },
      "execution_count": null,
      "outputs": []
    },
    {
      "cell_type": "code",
      "source": [
        "A = Square()\n",
        "B = Exp()\n",
        "C = Square()"
      ],
      "metadata": {
        "id": "bcwaxpGIGegH"
      },
      "execution_count": null,
      "outputs": []
    },
    {
      "cell_type": "code",
      "source": [
        "x = Variable(np.array(0.5))\n",
        "a = A(x)\n",
        "b = B(a)\n",
        "y = C(b)\n",
        "print(y.data)"
      ],
      "metadata": {
        "colab": {
          "base_uri": "https://localhost:8080/"
        },
        "id": "Ony8FKwCIQ6w",
        "outputId": "878ec765-428c-4415-cc4a-00f80d67c4a7"
      },
      "execution_count": null,
      "outputs": [
        {
          "output_type": "stream",
          "name": "stdout",
          "text": [
            "1.648721270700128\n"
          ]
        }
      ]
    },
    {
      "cell_type": "code",
      "source": [
        "## 미분해버리기\n",
        "def numerical_diff(f, x, eps=1e-4):\n",
        "  x0 = Variable(x.data - eps)\n",
        "  x1 = Variable(x.data + eps)\n",
        "  y0 = f(x0)\n",
        "  y1 = f(x1)\n",
        "  return (y1.data - y0.data) / (2 * eps)"
      ],
      "metadata": {
        "id": "tDS6tHcsJUM0"
      },
      "execution_count": null,
      "outputs": []
    },
    {
      "cell_type": "code",
      "source": [
        "f = Square()\n",
        "x = Variable(np.array(2.0))\n",
        "dy = numerical_diff(f,x)\n",
        "print(dy)"
      ],
      "metadata": {
        "colab": {
          "base_uri": "https://localhost:8080/"
        },
        "id": "FVDucGknJ0bu",
        "outputId": "460e875a-b8c5-4cbd-a7da-68ec2d72a6b1"
      },
      "execution_count": null,
      "outputs": [
        {
          "output_type": "stream",
          "name": "stdout",
          "text": [
            "4.000000000004\n"
          ]
        }
      ]
    },
    {
      "cell_type": "code",
      "source": [
        "def f(x):\n",
        "  A = Square()\n",
        "  B = Exp()\n",
        "  C = Square()\n",
        "  return C(B(A(x)))"
      ],
      "metadata": {
        "id": "S2W6FqlAKGtT"
      },
      "execution_count": null,
      "outputs": []
    },
    {
      "cell_type": "code",
      "source": [
        "x = Variable(np.array(0.5))"
      ],
      "metadata": {
        "id": "CTvvJmbcKOiI"
      },
      "execution_count": null,
      "outputs": []
    },
    {
      "cell_type": "code",
      "source": [
        "dy = numerical_diff(f,x)"
      ],
      "metadata": {
        "id": "FbgDxu_oKRpg"
      },
      "execution_count": null,
      "outputs": []
    },
    {
      "cell_type": "code",
      "source": [
        "print(dy)"
      ],
      "metadata": {
        "colab": {
          "base_uri": "https://localhost:8080/"
        },
        "id": "sLt2x_RCKUlc",
        "outputId": "5b411256-58a9-4aac-9067-9cbec45e123e"
      },
      "execution_count": null,
      "outputs": [
        {
          "output_type": "stream",
          "name": "stdout",
          "text": [
            "3.2974426293330694\n"
          ]
        }
      ]
    },
    {
      "cell_type": "code",
      "source": [
        "class Variable:\n",
        "  def __init__(self, data):\n",
        "    self.data = data\n",
        "    self.grad = None\n",
        "    self.creator = None\n",
        "  \n",
        "  def set_creator(self, func):\n",
        "    self.creator = func\n",
        "\n",
        "\n",
        "class Function:\n",
        "    def __call__(self, input):\n",
        "        x = input.data\n",
        "        y = self.forward(x)\n",
        "        output = Variable(y)\n",
        "        output.set_creator(self)\n",
        "        self.input = input\n",
        "        self.output = output\n",
        "        return output\n",
        "\n",
        "    def forward(self, x):\n",
        "        raise NotImplementedError()\n",
        "\n",
        "    def backward(self, gy):\n",
        "      raise NotImplementedError()"
      ],
      "metadata": {
        "id": "6_TIQe9jKVCx"
      },
      "execution_count": null,
      "outputs": []
    },
    {
      "cell_type": "code",
      "source": [
        "class Square(Function):\n",
        "    def forward(self, x):\n",
        "        return x ** 2\n",
        "\n",
        "    def backward(self, gy):\n",
        "        x = self.input.data\n",
        "        gx = 2 * x * gy\n",
        "        return gx\n",
        "\n",
        "class Exp(Function):\n",
        "    def forward(self, x):\n",
        "        return np.exp(x)\n",
        "\n",
        "    def backward(self, gy):\n",
        "      x = self.input.data\n",
        "      gx = np.exp(x)*gy\n",
        "      return gx\n"
      ],
      "metadata": {
        "id": "LOpQh242ONgA"
      },
      "execution_count": null,
      "outputs": []
    },
    {
      "cell_type": "code",
      "source": [
        "A = Square()\n",
        "B = Exp()\n",
        "C = Square()\n",
        "\n",
        "x = Variable(np.array(0.5))\n",
        "a = A(x)\n",
        "b = B(a)\n",
        "y = C(b)\n",
        "print(y.data)\n",
        "\n",
        "y.grad = np.array(1.0)\n",
        "b.grad = C.backward(y.grad)\n",
        "a.grad = B.backward(b.grad)\n",
        "x.grad = A.backward(a.grad)\n",
        "\n",
        "print(x.grad)\n",
        "\n"
      ],
      "metadata": {
        "colab": {
          "base_uri": "https://localhost:8080/"
        },
        "id": "GeL7EA2MOnJi",
        "outputId": "1a6fef11-ea75-414a-baff-e87ecfbe32ed"
      },
      "execution_count": null,
      "outputs": [
        {
          "output_type": "stream",
          "name": "stdout",
          "text": [
            "1.648721270700128\n",
            "3.297442541400256\n"
          ]
        }
      ]
    },
    {
      "cell_type": "code",
      "source": [
        "assert y.creator == C\n",
        "assert y.creator.input == b\n",
        "assert y.creator.input.creator == B\n",
        "assert y.creator.input.creator.input == a"
      ],
      "metadata": {
        "id": "9uwcgh0sPB0D"
      },
      "execution_count": null,
      "outputs": []
    },
    {
      "cell_type": "code",
      "source": [
        "y.grad = np.array(1.0)"
      ],
      "metadata": {
        "id": "v4XgeAqqRkxU"
      },
      "execution_count": null,
      "outputs": []
    },
    {
      "cell_type": "code",
      "source": [
        "C = y.creator"
      ],
      "metadata": {
        "id": "n65y-KL4SE1k"
      },
      "execution_count": null,
      "outputs": []
    },
    {
      "cell_type": "code",
      "source": [
        "b = C.input"
      ],
      "metadata": {
        "id": "dNC4IVRUSGMv"
      },
      "execution_count": null,
      "outputs": []
    },
    {
      "cell_type": "code",
      "source": [
        "b.grad = C.backward(y.grad)"
      ],
      "metadata": {
        "id": "_euGOjrCSHVc"
      },
      "execution_count": null,
      "outputs": []
    },
    {
      "cell_type": "code",
      "source": [
        "B = b.creator\n",
        "a = B.input\n",
        "a.grad = B.backward(b.grad)"
      ],
      "metadata": {
        "id": "1mYWP5RLSJdS"
      },
      "execution_count": null,
      "outputs": []
    },
    {
      "cell_type": "code",
      "source": [
        "y.rad = np.array(1.0)"
      ],
      "metadata": {
        "id": "RfHxfi3LSOsy"
      },
      "execution_count": null,
      "outputs": []
    },
    {
      "cell_type": "code",
      "source": [
        "!git pull"
      ],
      "metadata": {
        "id": "jn4wWgDbSYVA",
        "colab": {
          "base_uri": "https://localhost:8080/"
        },
        "outputId": "4c0ad413-4308-4d6a-ba25-9f26a049f918"
      },
      "execution_count": 83,
      "outputs": [
        {
          "output_type": "stream",
          "name": "stdout",
          "text": [
            "fatal: not a git repository (or any of the parent directories): .git\n"
          ]
        }
      ]
    },
    {
      "cell_type": "code",
      "source": [
        "!git config --global user.email yunjinchoidev@gmail.com\n",
        "!git config --global user.name yunjinchoidev"
      ],
      "metadata": {
        "id": "uc5D4JIaYmiN"
      },
      "execution_count": 82,
      "outputs": []
    },
    {
      "cell_type": "code",
      "source": [
        "!git add -A"
      ],
      "metadata": {
        "colab": {
          "base_uri": "https://localhost:8080/"
        },
        "id": "3NAZ2bU3Yqw1",
        "outputId": "73d96ccf-e940-4f31-8a2c-a0b76f8c7f71"
      },
      "execution_count": 84,
      "outputs": [
        {
          "output_type": "stream",
          "name": "stdout",
          "text": [
            "fatal: not a git repository (or any of the parent directories): .git\n"
          ]
        }
      ]
    },
    {
      "cell_type": "code",
      "source": [],
      "metadata": {
        "id": "W4FWe8ijYtdk"
      },
      "execution_count": null,
      "outputs": []
    }
  ]
}