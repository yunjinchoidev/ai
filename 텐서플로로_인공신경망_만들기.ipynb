{
  "nbformat": 4,
  "nbformat_minor": 0,
  "metadata": {
    "colab": {
      "provenance": [],
      "authorship_tag": "ABX9TyMT9+P30uk4aVACb1tNvMWL",
      "include_colab_link": true
    },
    "kernelspec": {
      "name": "python3",
      "display_name": "Python 3"
    },
    "language_info": {
      "name": "python"
    }
  },
  "cells": [
    {
      "cell_type": "markdown",
      "metadata": {
        "id": "view-in-github",
        "colab_type": "text"
      },
      "source": [
        "<a href=\"https://colab.research.google.com/github/yunjinchoidev/ai/blob/main/%ED%85%90%EC%84%9C%ED%94%8C%EB%A1%9C%EB%A1%9C_%EC%9D%B8%EA%B3%B5%EC%8B%A0%EA%B2%BD%EB%A7%9D_%EB%A7%8C%EB%93%A4%EA%B8%B0.ipynb\" target=\"_parent\"><img src=\"https://colab.research.google.com/assets/colab-badge.svg\" alt=\"Open In Colab\"/></a>"
      ]
    },
    {
      "cell_type": "code",
      "execution_count": 1,
      "metadata": {
        "id": "k_XERPpJnpQM"
      },
      "outputs": [],
      "source": [
        "import tensorflow as tf"
      ]
    },
    {
      "cell_type": "code",
      "source": [
        "# MNIST 데이터를 다운로드 합니다.\n",
        "(x_train, y_train), (x_test, y_test) = tf.keras.datasets.mnist.load_data()\n",
        "# 이미지들을 float32 데이터 타입으로 변경합니다.\n",
        "x_train, x_test = x_train.astype('float32'), x_test.astype('float32')\n",
        "# 28*28 형태의 이미지를 784차원으로 flattening 합니다.\n",
        "x_train, x_test = x_train.reshape([-1, 784]), x_test.reshape([-1, 784])\n",
        "# [0, 255] 사이의 값을 [0, 1]사이의 값으로 Normalize합니다.\n",
        "x_train, x_test = x_train / 255., x_test / 255.\n",
        "# 레이블 데이터에 one-hot encoding을 적용합니다.\n",
        "y_train, y_test = tf.one_hot(y_train, depth=10), tf.one_hot(y_test, depth=10)"
      ],
      "metadata": {
        "colab": {
          "base_uri": "https://localhost:8080/"
        },
        "id": "elb4AGXwoQYu",
        "outputId": "a8e6b716-6208-4f00-b1d2-2517700c6e0c"
      },
      "execution_count": 2,
      "outputs": [
        {
          "output_type": "stream",
          "name": "stdout",
          "text": [
            "Downloading data from https://storage.googleapis.com/tensorflow/tf-keras-datasets/mnist.npz\n",
            "11490434/11490434 [==============================] - 0s 0us/step\n"
          ]
        }
      ]
    },
    {
      "cell_type": "code",
      "source": [
        "# 학습을 위한 설정값들을 정의합니다.\n",
        "learning_rate = 0.001\n",
        "num_epochs = 30     # 학습횟수\n",
        "batch_size = 256    # 배치개수\n",
        "display_step = 1    # 손실함수 출력 주기\n",
        "input_size = 784    # 28 * 28\n",
        "hidden1_size = 256\n",
        "hidden2_size = 256\n",
        "output_size = 10"
      ],
      "metadata": {
        "id": "a2a5fks5obEW"
      },
      "execution_count": 3,
      "outputs": []
    },
    {
      "cell_type": "code",
      "source": [
        "# tf.data API를 이용해서 데이터를 섞고 batch 형태로 가져옵니다.\n",
        "train_data = tf.data.Dataset.from_tensor_slices((x_train, y_train))\n",
        "train_data = train_data.shuffle(60000).batch(batch_size)\n",
        "\n",
        "def random_normal_intializer_with_stddev_1():\n",
        "  return tf.keras.initializers.RandomNormal(mean=0.0, stddev=1.0, seed=None)"
      ],
      "metadata": {
        "id": "HVN7rEfDoeFN"
      },
      "execution_count": 4,
      "outputs": []
    },
    {
      "cell_type": "code",
      "source": [
        "# tf.keras.Model을 이용해서 ANN 모델을 정의합니다.\n",
        "class ANN(tf.keras.Model):\n",
        "  def __init__(self):\n",
        "    super(ANN, self).__init__()\n",
        "    self.hidden_layer_1 = tf.keras.layers.Dense(hidden1_size,\n",
        "                                                activation='relu',\n",
        "                                                kernel_initializer=random_normal_intializer_with_stddev_1(),\n",
        "                                                bias_initializer=random_normal_intializer_with_stddev_1())\n",
        "    self.hidden_layer_2 = tf.keras.layers.Dense(hidden2_size,\n",
        "                                                activation='relu',\n",
        "                                                kernel_initializer=random_normal_intializer_with_stddev_1(),\n",
        "                                                bias_initializer=random_normal_intializer_with_stddev_1())\n",
        "    self.output_layer = tf.keras.layers.Dense(output_size,\n",
        "                                              activation=None,\n",
        "                                              kernel_initializer=random_normal_intializer_with_stddev_1(),\n",
        "                                              bias_initializer=random_normal_intializer_with_stddev_1())\n",
        "\n",
        "  def call(self, x):\n",
        "    H1_output = self.hidden_layer_1(x)\n",
        "    H2_output = self.hidden_layer_2(H1_output)\n",
        "    logits = self.output_layer(H2_output)\n",
        "\n",
        "    return logits\n",
        "\n",
        "# cross-entropy 손실 함수를 정의합니다.\n",
        "@tf.function\n",
        "def cross_entropy_loss(logits, y):\n",
        "  return tf.reduce_mean(tf.nn.softmax_cross_entropy_with_logits(logits=logits, labels=y))\n",
        "\n",
        "# 최적화를 위한 Adam 옵티마이저를 정의합니다.\n",
        "optimizer = tf.optimizers.Adam(learning_rate)\n",
        "\n",
        "# 최적화를 위한 function을 정의합니다.\n",
        "@tf.function\n",
        "def train_step(model, x, y):\n",
        "  with tf.GradientTape() as tape:\n",
        "    y_pred = model(x)\n",
        "    loss = cross_entropy_loss(y_pred, y)\n",
        "  gradients = tape.gradient(loss, model.trainable_variables)\n",
        "  optimizer.apply_gradients(zip(gradients, model.trainable_variables))\n",
        "\n",
        "# 모델의 정확도를 출력하는 함수를 정의합니다.\n",
        "@tf.function\n",
        "def compute_accuracy(y_pred, y):\n",
        "  correct_prediction = tf.equal(tf.argmax(y_pred,1), tf.argmax(y,1))\n",
        "  accuracy = tf.reduce_mean(tf.cast(correct_prediction, tf.float32))\n",
        "\n",
        "  return accuracy\n",
        "\n",
        "# ANN 모델을 선언합니다.\n",
        "ANN_model = ANN()\n",
        "\n",
        "# 지정된 횟수만큼 최적화를 수행합니다.\n",
        "for epoch in range(num_epochs):\n",
        "  average_loss = 0.\n",
        "  total_batch = int(x_train.shape[0] / batch_size)\n",
        "  # 모든 배치들에 대해서 최적화를 수행합니다.\n",
        "  for batch_x, batch_y in train_data:\n",
        "    # 옵티마이저를 실행해서 파라마터들을 업데이트합니다.\n",
        "    _, current_loss = train_step(ANN_model, batch_x, batch_y), cross_entropy_loss(ANN_model(batch_x), batch_y)\n",
        "    # 평균 손실을 측정합니다.\n",
        "    average_loss += current_loss / total_batch\n",
        "  # 지정된 epoch마다 학습결과를 출력합니다.\n",
        "  if epoch % display_step == 0:\n",
        "    print(\"반복(Epoch): %d, 손실 함수(Loss): %f\" % ((epoch+1), average_loss))\n",
        "\n",
        "# 테스트 데이터를 이용해서 학습된 모델이 얼마나 정확한지 정확도를 출력합니다.\n",
        "print(\"정확도(Accuracy): %f\" % compute_accuracy(ANN_model(x_test), y_test)) # 정확도: 약 94%"
      ],
      "metadata": {
        "colab": {
          "base_uri": "https://localhost:8080/"
        },
        "id": "0399rQD7s5_T",
        "outputId": "b5d34920-af61-4ab3-8899-3203bf1fa911"
      },
      "execution_count": 19,
      "outputs": [
        {
          "output_type": "stream",
          "name": "stdout",
          "text": [
            "반복(Epoch): 1, 손실 함수(Loss): 251.977615\n",
            "반복(Epoch): 2, 손실 함수(Loss): 61.022778\n",
            "반복(Epoch): 3, 손실 함수(Loss): 40.522049\n",
            "반복(Epoch): 4, 손실 함수(Loss): 30.044832\n",
            "반복(Epoch): 5, 손실 함수(Loss): 23.601955\n",
            "반복(Epoch): 6, 손실 함수(Loss): 18.775780\n",
            "반복(Epoch): 7, 손실 함수(Loss): 15.456141\n",
            "반복(Epoch): 8, 손실 함수(Loss): 12.510220\n",
            "반복(Epoch): 9, 손실 함수(Loss): 10.302138\n",
            "반복(Epoch): 10, 손실 함수(Loss): 8.425043\n",
            "반복(Epoch): 11, 손실 함수(Loss): 6.996170\n",
            "반복(Epoch): 12, 손실 함수(Loss): 5.705447\n",
            "반복(Epoch): 13, 손실 함수(Loss): 4.708868\n",
            "반복(Epoch): 14, 손실 함수(Loss): 3.852503\n",
            "반복(Epoch): 15, 손실 함수(Loss): 3.159916\n",
            "반복(Epoch): 16, 손실 함수(Loss): 2.604775\n",
            "반복(Epoch): 17, 손실 함수(Loss): 2.124114\n",
            "반복(Epoch): 18, 손실 함수(Loss): 1.651320\n",
            "반복(Epoch): 19, 손실 함수(Loss): 1.335045\n",
            "반복(Epoch): 20, 손실 함수(Loss): 1.093363\n",
            "반복(Epoch): 21, 손실 함수(Loss): 0.856428\n",
            "반복(Epoch): 22, 손실 함수(Loss): 0.700567\n",
            "반복(Epoch): 23, 손실 함수(Loss): 0.624265\n",
            "반복(Epoch): 24, 손실 함수(Loss): 0.444824\n",
            "반복(Epoch): 25, 손실 함수(Loss): 0.312891\n",
            "반복(Epoch): 26, 손실 함수(Loss): 0.272124\n",
            "반복(Epoch): 27, 손실 함수(Loss): 0.248476\n",
            "반복(Epoch): 28, 손실 함수(Loss): 0.175208\n",
            "반복(Epoch): 29, 손실 함수(Loss): 0.138512\n",
            "반복(Epoch): 30, 손실 함수(Loss): 0.125987\n",
            "정확도(Accuracy): 0.942000\n"
          ]
        }
      ]
    },
    {
      "cell_type": "code",
      "source": [],
      "metadata": {
        "id": "iqQPshGitWyr"
      },
      "execution_count": null,
      "outputs": []
    }
  ]
}